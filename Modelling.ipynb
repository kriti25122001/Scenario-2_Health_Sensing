{
  "nbformat": 4,
  "nbformat_minor": 0,
  "metadata": {
    "colab": {
      "provenance": []
    },
    "kernelspec": {
      "name": "python3",
      "display_name": "Python 3"
    },
    "language_info": {
      "name": "python"
    }
  },
  "cells": [
    {
      "cell_type": "markdown",
      "source": [
        "# Modeling [10 Marks]"
      ],
      "metadata": {
        "id": "Ot1D7nR1mpU-"
      }
    },
    {
      "cell_type": "code",
      "source": [
        "from google.colab import drive\n",
        "drive.mount('/content/drive')"
      ],
      "metadata": {
        "colab": {
          "base_uri": "https://localhost:8080/"
        },
        "id": "oSER3ybZdl32",
        "outputId": "0f7f21ba-86e8-4d27-8aab-d47ecef0a993"
      },
      "execution_count": 2,
      "outputs": [
        {
          "output_type": "stream",
          "name": "stdout",
          "text": [
            "Drive already mounted at /content/drive; to attempt to forcibly remount, call drive.mount(\"/content/drive\", force_remount=True).\n"
          ]
        }
      ]
    },
    {
      "cell_type": "code",
      "source": [
        "!cp -r \"/content/drive/MyDrive/IITG_assignments/internship/Dataset\" \"/content/internship\""
      ],
      "metadata": {
        "id": "E0i1VDAJnJ3J"
      },
      "execution_count": 3,
      "outputs": []
    },
    {
      "cell_type": "code",
      "source": [
        "!apt-get install tree"
      ],
      "metadata": {
        "colab": {
          "base_uri": "https://localhost:8080/"
        },
        "id": "PDyR9R8td5Lk",
        "outputId": "5b06673d-c52d-41c5-d71a-04c181009adc"
      },
      "execution_count": 4,
      "outputs": [
        {
          "output_type": "stream",
          "name": "stdout",
          "text": [
            "Reading package lists... Done\n",
            "Building dependency tree... Done\n",
            "Reading state information... Done\n",
            "tree is already the newest version (2.0.2-1).\n",
            "0 upgraded, 0 newly installed, 0 to remove and 35 not upgraded.\n"
          ]
        }
      ]
    },
    {
      "cell_type": "code",
      "source": [
        "!tree /content/internship/"
      ],
      "metadata": {
        "colab": {
          "base_uri": "https://localhost:8080/"
        },
        "id": "_LJF1EcYncKG",
        "outputId": "263d67f3-7bb8-45dc-dad1-5a6a1d95aa16"
      },
      "execution_count": 5,
      "outputs": [
        {
          "output_type": "stream",
          "name": "stdout",
          "text": [
            "\u001b[01;34m/content/internship/\u001b[0m\n",
            "├── \u001b[00mbreathing_dataset.csv\u001b[0m\n",
            "├── \u001b[00mcombined_breathing_dataset.csv\u001b[0m\n",
            "├── \u001b[00mcombined_sleep_stage_dataset.csv\u001b[0m\n",
            "├── \u001b[01;34mDataset\u001b[0m\n",
            "│   ├── \u001b[00mbreathing_dataset.csv\u001b[0m\n",
            "│   ├── \u001b[00mcombined_breathing_dataset.csv\u001b[0m\n",
            "│   ├── \u001b[00mcombined_sleep_stage_dataset.csv\u001b[0m\n",
            "│   └── \u001b[00msleep_stage_dataset.csv\u001b[0m\n",
            "└── \u001b[00msleep_stage_dataset.csv\u001b[0m\n",
            "\n",
            "1 directory, 8 files\n"
          ]
        }
      ]
    },
    {
      "cell_type": "code",
      "source": [
        "import os\n",
        "import re\n",
        "from pathlib import Path\n",
        "import numpy as np\n",
        "import pandas as pd\n",
        "import matplotlib.pyplot as plt"
      ],
      "metadata": {
        "id": "_WWvEVegfdSH"
      },
      "execution_count": 6,
      "outputs": []
    },
    {
      "cell_type": "code",
      "source": [
        "# Load datasets\n",
        "breathing_df = pd.read_csv(\"/content/internship/combined_breathing_dataset.csv\")\n",
        "sleep_stage_df = pd.read_csv(\"/content/internship/combined_sleep_stage_dataset.csv\")\n",
        "\n",
        "# Display first 5 rows of each\n",
        "print(\"Breathing Dataset (breathing_dataset.csv) — head():\\n\")\n",
        "print(breathing_df.head(), \"\\n\")\n",
        "\n",
        "print(\"Sleep Stage Dataset (sleep_stage_dataset.csv) — head():\\n\")\n",
        "print(sleep_stage_df.head())\n"
      ],
      "metadata": {
        "colab": {
          "base_uri": "https://localhost:8080/"
        },
        "id": "BDdBDqa8nlgd",
        "outputId": "f834f9eb-76ab-4479-d80a-2ef460eaa045"
      },
      "execution_count": 7,
      "outputs": [
        {
          "output_type": "stream",
          "name": "stdout",
          "text": [
            "Breathing Dataset (breathing_dataset.csv) — head():\n",
            "\n",
            "  subject         window_start           window_end  flow_mean  thoracic_mean  \\\n",
            "0    AP01  2024-05-30 20:59:00  2024-05-30 20:59:30  -2.402243       0.951803   \n",
            "1    AP01  2024-05-30 20:59:15  2024-05-30 20:59:45   0.979846       1.261949   \n",
            "2    AP01  2024-05-30 20:59:30  2024-05-30 21:00:00  -2.549896       1.604093   \n",
            "3    AP01  2024-05-30 20:59:45  2024-05-30 21:00:15  -3.223234       1.264346   \n",
            "4    AP01  2024-05-30 21:00:00  2024-05-30 21:00:30  -2.825299       0.222740   \n",
            "\n",
            "    label sleep_stage  overlap_seconds  \n",
            "0  Normal        Wake              0.0  \n",
            "1  Normal        Wake              0.0  \n",
            "2  Normal        Wake              0.0  \n",
            "3  Normal        Wake              0.0  \n",
            "4  Normal        Wake              0.0   \n",
            "\n",
            "Sleep Stage Dataset (sleep_stage_dataset.csv) — head():\n",
            "\n",
            "  subject         window_start           window_end sleep_stage\n",
            "0    AP01  2024-05-30 20:59:00  2024-05-30 20:59:30        Wake\n",
            "1    AP01  2024-05-30 20:59:15  2024-05-30 20:59:45        Wake\n",
            "2    AP01  2024-05-30 20:59:30  2024-05-30 21:00:00        Wake\n",
            "3    AP01  2024-05-30 20:59:45  2024-05-30 21:00:15        Wake\n",
            "4    AP01  2024-05-30 21:00:00  2024-05-30 21:00:30        Wake\n"
          ]
        }
      ]
    },
    {
      "cell_type": "markdown",
      "source": [
        "#1D CNN model"
      ],
      "metadata": {
        "id": "do9kLHKdeZAf"
      }
    },
    {
      "cell_type": "code",
      "source": [
        "import tensorflow as tf\n",
        "from tensorflow.keras.models import Sequential\n",
        "from tensorflow.keras.layers import Conv1D, MaxPooling1D, LSTM, Dense, Dropout, Flatten, TimeDistributed\n",
        "from tensorflow.keras.optimizers import Adam\n",
        "from sklearn.model_selection import LeaveOneGroupOut\n",
        "from sklearn.metrics import accuracy_score, precision_score, recall_score, confusion_matrix\n",
        "from sklearn.preprocessing import LabelEncoder, StandardScaler"
      ],
      "metadata": {
        "id": "x7VJ16zcfC1X"
      },
      "execution_count": 8,
      "outputs": []
    },
    {
      "cell_type": "code",
      "source": [
        "# Load datasets\n",
        "breathing_df = pd.read_csv('/content/drive/MyDrive/IITG_assignments/internship/Dataset/combined_breathing_dataset.csv')\n",
        "sleep_df = pd.read_csv('/content/drive/MyDrive/IITG_assignments/internship/Dataset/combined_sleep_stage_dataset.csv')\n",
        "\n",
        "# Convert datetime columns\n",
        "breathing_df['window_start'] = pd.to_datetime(breathing_df['window_start'])\n",
        "breathing_df['window_end'] = pd.to_datetime(breathing_df['window_end'])\n",
        "sleep_df['window_start'] = pd.to_datetime(sleep_df['window_start'])\n",
        "sleep_df['window_end'] = pd.to_datetime(sleep_df['window_end'])\n",
        "\n",
        "# Merge datasets - keep only the sleep_stage from sleep_df\n",
        "merged_df = pd.merge(\n",
        "    breathing_df.drop('sleep_stage', axis=1),  # Remove sleep_stage from breathing_df to avoid duplicate columns\n",
        "    sleep_df[['subject', 'window_start', 'window_end', 'sleep_stage']],\n",
        "    on=['subject', 'window_start', 'window_end'],\n",
        "    how='inner'\n",
        ")\n",
        "\n",
        "# Verify merge\n",
        "print(\"Merged dataset columns:\", merged_df.columns)\n",
        "print(\"\\nMerged dataset head:\")\n",
        "print(merged_df.head())\n"
      ],
      "metadata": {
        "colab": {
          "base_uri": "https://localhost:8080/"
        },
        "id": "_By_1OL4fmtO",
        "outputId": "c386f9b4-a83f-4d41-94cd-c6eba3be3ce4"
      },
      "execution_count": 9,
      "outputs": [
        {
          "output_type": "stream",
          "name": "stdout",
          "text": [
            "Merged dataset columns: Index(['subject', 'window_start', 'window_end', 'flow_mean', 'thoracic_mean',\n",
            "       'label', 'overlap_seconds', 'sleep_stage'],\n",
            "      dtype='object')\n",
            "\n",
            "Merged dataset head:\n",
            "  subject        window_start          window_end  flow_mean  thoracic_mean  \\\n",
            "0    AP01 2024-05-30 20:59:00 2024-05-30 20:59:30  -2.402243       0.951803   \n",
            "1    AP01 2024-05-30 20:59:15 2024-05-30 20:59:45   0.979846       1.261949   \n",
            "2    AP01 2024-05-30 20:59:30 2024-05-30 21:00:00  -2.549896       1.604093   \n",
            "3    AP01 2024-05-30 20:59:45 2024-05-30 21:00:15  -3.223234       1.264346   \n",
            "4    AP01 2024-05-30 21:00:00 2024-05-30 21:00:30  -2.825299       0.222740   \n",
            "\n",
            "    label  overlap_seconds sleep_stage  \n",
            "0  Normal              0.0        Wake  \n",
            "1  Normal              0.0        Wake  \n",
            "2  Normal              0.0        Wake  \n",
            "3  Normal              0.0        Wake  \n",
            "4  Normal              0.0        Wake  \n"
          ]
        }
      ]
    },
    {
      "cell_type": "code",
      "source": [
        "# Encode labels\n",
        "label_encoder = LabelEncoder()\n",
        "merged_df['label_encoded'] = label_encoder.fit_transform(merged_df['label'])\n",
        "\n",
        "# One-hot encode sleep stage\n",
        "sleep_stage_dummies = pd.get_dummies(merged_df['sleep_stage'], prefix='sleep')\n",
        "\n",
        "# Features and labels\n",
        "numeric_features = ['flow_mean', 'thoracic_mean']\n",
        "X_numeric = merged_df[numeric_features]\n",
        "X = pd.concat([X_numeric, sleep_stage_dummies], axis=1)\n",
        "y = merged_df['label_encoded']\n",
        "groups = merged_df['subject'].values\n",
        "\n",
        "# Standardize numerical features\n",
        "scaler = StandardScaler()\n",
        "X[numeric_features] = scaler.fit_transform(X[numeric_features])\n",
        "\n",
        "# Convert to numpy arrays\n",
        "X = X.values.astype('float32')\n",
        "y = y.values\n",
        "groups = merged_df['subject'].values\n",
        "\n",
        "# Reshape data for 1D CNN and Conv-LSTM (samples, timesteps, features)\n",
        "X_reshaped = X.reshape(X.shape[0], 1, X.shape[1])\n",
        "\n",
        "# Define Leave-One-Subject-Out cross-validator\n",
        "logo = LeaveOneGroupOut()\n",
        "\n",
        "# Initialize dictionaries to store results\n",
        "results_cnn = {'accuracy': [], 'precision': [], 'recall': [], 'sensitivity': [], 'specificity': []}\n",
        "results_conv_lstm = {'accuracy': [], 'precision': [], 'recall': [], 'sensitivity': [], 'specificity': []}"
      ],
      "metadata": {
        "id": "Am3c0Vs2fztx"
      },
      "execution_count": 10,
      "outputs": []
    },
    {
      "cell_type": "code",
      "source": [
        "# Define model creation functions\n",
        "def create_1d_cnn(input_shape, num_classes):\n",
        "    model = Sequential([\n",
        "        Conv1D(64, kernel_size=1, activation='relu', input_shape=input_shape),\n",
        "        MaxPooling1D(pool_size=1),\n",
        "        Conv1D(128, kernel_size=1, activation='relu'),\n",
        "        MaxPooling1D(pool_size=1),\n",
        "        Flatten(),\n",
        "        Dense(128, activation='relu'),\n",
        "        Dropout(0.5),\n",
        "        Dense(num_classes, activation='softmax')\n",
        "    ])\n",
        "    model.compile(optimizer=Adam(learning_rate=0.001),\n",
        "                 loss='sparse_categorical_crossentropy',\n",
        "                 metrics=['accuracy'])\n",
        "    return model\n",
        "\n",
        "def calculate_metrics(y_true, y_pred):\n",
        "    cm = confusion_matrix(y_true, y_pred)\n",
        "    num_classes = cm.shape[0]\n",
        "\n",
        "    metrics = {\n",
        "        'accuracy': accuracy_score(y_true, y_pred),\n",
        "        'precision': precision_score(y_true, y_pred, average='weighted', zero_division=0),\n",
        "        'recall': recall_score(y_true, y_pred, average='weighted', zero_division=0),\n",
        "        'sensitivity': 0,\n",
        "        'specificity': 0\n",
        "    }\n",
        "\n",
        "    # For binary classification\n",
        "    if num_classes == 2:\n",
        "        tn, fp, fn, tp = cm.ravel()\n",
        "        metrics['sensitivity'] = tp / (tp + fn)\n",
        "        metrics['specificity'] = tn / (tn + fp)\n",
        "    # For multi-class classification\n",
        "    else:\n",
        "        # Calculate sensitivity (recall for each class)\n",
        "        recalls = recall_score(y_true, y_pred, average=None, zero_division=0)\n",
        "        metrics['sensitivity'] = np.mean(recalls)\n",
        "\n",
        "        # Calculate specificity (requires more complex calculation)\n",
        "        specificities = []\n",
        "        for i in range(num_classes):\n",
        "            tn = np.sum(np.delete(np.delete(cm, i, axis=0), i, axis=1))\n",
        "            fp = np.sum(cm[:, i]) - cm[i, i]\n",
        "            specificities.append(tn / (tn + fp))\n",
        "        metrics['specificity'] = np.mean(specificities)\n",
        "\n",
        "    return metrics, cm"
      ],
      "metadata": {
        "id": "OOSwa4Ppg-fd"
      },
      "execution_count": 11,
      "outputs": []
    },
    {
      "cell_type": "code",
      "source": [
        "# Perform Leave-One-Subject-Out cross-validation\n",
        "for fold, (train_idx, test_idx) in enumerate(logo.split(X, y, groups)):\n",
        "    print(f\"\\n=== Fold {fold+1} - Testing on subject {groups[test_idx[0]]} ===\")\n",
        "\n",
        "    # Split data\n",
        "    X_train, X_test = X_reshaped[train_idx], X_reshaped[test_idx]\n",
        "    y_train, y_test = y[train_idx], y[test_idx]\n",
        "\n",
        "    # Get input shape\n",
        "    input_shape = (X_train.shape[1], X_train.shape[2])\n",
        "    num_classes = len(np.unique(y))\n",
        "\n",
        "    # Train and evaluate 1D CNN\n",
        "    print(\"\\nTraining 1D CNN...\")\n",
        "    cnn_model = create_1d_cnn(input_shape, num_classes)\n",
        "    cnn_history = cnn_model.fit(X_train, y_train,\n",
        "                               epochs=20,\n",
        "                               batch_size=32,\n",
        "                               validation_split=0.2,\n",
        "                               verbose=1)\n",
        "\n",
        "    # Evaluate 1D CNN\n",
        "    cnn_pred = np.argmax(cnn_model.predict(X_test), axis=1)\n",
        "\n",
        "    # Calculate metrics\n",
        "    cnn_metrics, cnn_cm = calculate_metrics(y_test, cnn_pred)\n",
        "\n",
        "    # Store results\n",
        "    results_cnn['accuracy'].append(cnn_metrics['accuracy'])\n",
        "    results_cnn['precision'].append(cnn_metrics['precision'])\n",
        "    results_cnn['recall'].append(cnn_metrics['recall'])\n",
        "    results_cnn['sensitivity'].append(cnn_metrics['sensitivity'])\n",
        "    results_cnn['specificity'].append(cnn_metrics['specificity'])\n",
        "\n",
        "    # Print metrics\n",
        "    print(f\"\\n1D CNN Metrics for fold {fold+1}:\")\n",
        "    print(f\"Accuracy: {cnn_metrics['accuracy']:.4f}\")\n",
        "    print(f\"Precision: {cnn_metrics['precision']:.4f}\")\n",
        "    print(f\"Recall: {cnn_metrics['recall']:.4f}\")\n",
        "    print(f\"Sensitivity: {cnn_metrics['sensitivity']:.4f}\")\n",
        "    print(f\"Specificity: {cnn_metrics['specificity']:.4f}\")\n",
        "    print(\"Confusion Matrix:\")\n",
        "    print(cnn_cm)\n"
      ],
      "metadata": {
        "colab": {
          "base_uri": "https://localhost:8080/"
        },
        "id": "ssDZ_PUuNsiH",
        "outputId": "805cb0af-4d38-451d-b61f-230e3306f39f"
      },
      "execution_count": 12,
      "outputs": [
        {
          "output_type": "stream",
          "name": "stdout",
          "text": [
            "\n",
            "=== Fold 1 - Testing on subject AP01 ===\n",
            "\n",
            "Training 1D CNN...\n",
            "Epoch 1/20\n"
          ]
        },
        {
          "output_type": "stream",
          "name": "stderr",
          "text": [
            "/usr/local/lib/python3.11/dist-packages/keras/src/layers/convolutional/base_conv.py:107: UserWarning: Do not pass an `input_shape`/`input_dim` argument to a layer. When using Sequential models, prefer using an `Input(shape)` object as the first layer in the model instead.\n",
            "  super().__init__(activity_regularizer=activity_regularizer, **kwargs)\n"
          ]
        },
        {
          "output_type": "stream",
          "name": "stdout",
          "text": [
            "\u001b[1m175/175\u001b[0m \u001b[32m━━━━━━━━━━━━━━━━━━━━\u001b[0m\u001b[37m\u001b[0m \u001b[1m2s\u001b[0m 5ms/step - accuracy: 0.8734 - loss: 0.5876 - val_accuracy: 0.7978 - val_loss: 1.3863\n",
            "Epoch 2/20\n",
            "\u001b[1m175/175\u001b[0m \u001b[32m━━━━━━━━━━━━━━━━━━━━\u001b[0m\u001b[37m\u001b[0m \u001b[1m1s\u001b[0m 5ms/step - accuracy: 0.9484 - loss: 0.1963 - val_accuracy: 0.7978 - val_loss: 1.2241\n",
            "Epoch 3/20\n",
            "\u001b[1m175/175\u001b[0m \u001b[32m━━━━━━━━━━━━━━━━━━━━\u001b[0m\u001b[37m\u001b[0m \u001b[1m1s\u001b[0m 5ms/step - accuracy: 0.9470 - loss: 0.2022 - val_accuracy: 0.7978 - val_loss: 1.1548\n",
            "Epoch 4/20\n",
            "\u001b[1m175/175\u001b[0m \u001b[32m━━━━━━━━━━━━━━━━━━━━\u001b[0m\u001b[37m\u001b[0m \u001b[1m1s\u001b[0m 5ms/step - accuracy: 0.9439 - loss: 0.2079 - val_accuracy: 0.7978 - val_loss: 1.1096\n",
            "Epoch 5/20\n",
            "\u001b[1m175/175\u001b[0m \u001b[32m━━━━━━━━━━━━━━━━━━━━\u001b[0m\u001b[37m\u001b[0m \u001b[1m1s\u001b[0m 4ms/step - accuracy: 0.9404 - loss: 0.2151 - val_accuracy: 0.7978 - val_loss: 1.2742\n",
            "Epoch 6/20\n",
            "\u001b[1m175/175\u001b[0m \u001b[32m━━━━━━━━━━━━━━━━━━━━\u001b[0m\u001b[37m\u001b[0m \u001b[1m1s\u001b[0m 4ms/step - accuracy: 0.9516 - loss: 0.1823 - val_accuracy: 0.7978 - val_loss: 1.2759\n",
            "Epoch 7/20\n",
            "\u001b[1m175/175\u001b[0m \u001b[32m━━━━━━━━━━━━━━━━━━━━\u001b[0m\u001b[37m\u001b[0m \u001b[1m1s\u001b[0m 3ms/step - accuracy: 0.9458 - loss: 0.1954 - val_accuracy: 0.7978 - val_loss: 1.2669\n",
            "Epoch 8/20\n",
            "\u001b[1m175/175\u001b[0m \u001b[32m━━━━━━━━━━━━━━━━━━━━\u001b[0m\u001b[37m\u001b[0m \u001b[1m1s\u001b[0m 3ms/step - accuracy: 0.9445 - loss: 0.2054 - val_accuracy: 0.7978 - val_loss: 1.1075\n",
            "Epoch 9/20\n",
            "\u001b[1m175/175\u001b[0m \u001b[32m━━━━━━━━━━━━━━━━━━━━\u001b[0m\u001b[37m\u001b[0m \u001b[1m1s\u001b[0m 3ms/step - accuracy: 0.9420 - loss: 0.2042 - val_accuracy: 0.7978 - val_loss: 1.1128\n",
            "Epoch 10/20\n",
            "\u001b[1m175/175\u001b[0m \u001b[32m━━━━━━━━━━━━━━━━━━━━\u001b[0m\u001b[37m\u001b[0m \u001b[1m1s\u001b[0m 4ms/step - accuracy: 0.9388 - loss: 0.2131 - val_accuracy: 0.7978 - val_loss: 1.1695\n",
            "Epoch 11/20\n",
            "\u001b[1m175/175\u001b[0m \u001b[32m━━━━━━━━━━━━━━━━━━━━\u001b[0m\u001b[37m\u001b[0m \u001b[1m1s\u001b[0m 3ms/step - accuracy: 0.9479 - loss: 0.1880 - val_accuracy: 0.7978 - val_loss: 1.2052\n",
            "Epoch 12/20\n",
            "\u001b[1m175/175\u001b[0m \u001b[32m━━━━━━━━━━━━━━━━━━━━\u001b[0m\u001b[37m\u001b[0m \u001b[1m1s\u001b[0m 4ms/step - accuracy: 0.9434 - loss: 0.2014 - val_accuracy: 0.7978 - val_loss: 1.1885\n",
            "Epoch 13/20\n",
            "\u001b[1m175/175\u001b[0m \u001b[32m━━━━━━━━━━━━━━━━━━━━\u001b[0m\u001b[37m\u001b[0m \u001b[1m1s\u001b[0m 3ms/step - accuracy: 0.9476 - loss: 0.1897 - val_accuracy: 0.7978 - val_loss: 1.2646\n",
            "Epoch 14/20\n",
            "\u001b[1m175/175\u001b[0m \u001b[32m━━━━━━━━━━━━━━━━━━━━\u001b[0m\u001b[37m\u001b[0m \u001b[1m1s\u001b[0m 3ms/step - accuracy: 0.9393 - loss: 0.2134 - val_accuracy: 0.7978 - val_loss: 1.1916\n",
            "Epoch 15/20\n",
            "\u001b[1m175/175\u001b[0m \u001b[32m━━━━━━━━━━━━━━━━━━━━\u001b[0m\u001b[37m\u001b[0m \u001b[1m1s\u001b[0m 3ms/step - accuracy: 0.9432 - loss: 0.2002 - val_accuracy: 0.7978 - val_loss: 1.2966\n",
            "Epoch 16/20\n",
            "\u001b[1m175/175\u001b[0m \u001b[32m━━━━━━━━━━━━━━━━━━━━\u001b[0m\u001b[37m\u001b[0m \u001b[1m1s\u001b[0m 3ms/step - accuracy: 0.9491 - loss: 0.1843 - val_accuracy: 0.7978 - val_loss: 1.2336\n",
            "Epoch 17/20\n",
            "\u001b[1m175/175\u001b[0m \u001b[32m━━━━━━━━━━━━━━━━━━━━\u001b[0m\u001b[37m\u001b[0m \u001b[1m1s\u001b[0m 4ms/step - accuracy: 0.9486 - loss: 0.1865 - val_accuracy: 0.7978 - val_loss: 1.1081\n",
            "Epoch 18/20\n",
            "\u001b[1m175/175\u001b[0m \u001b[32m━━━━━━━━━━━━━━━━━━━━\u001b[0m\u001b[37m\u001b[0m \u001b[1m2s\u001b[0m 5ms/step - accuracy: 0.9455 - loss: 0.2025 - val_accuracy: 0.7978 - val_loss: 1.1400\n",
            "Epoch 19/20\n",
            "\u001b[1m175/175\u001b[0m \u001b[32m━━━━━━━━━━━━━━━━━━━━\u001b[0m\u001b[37m\u001b[0m \u001b[1m1s\u001b[0m 5ms/step - accuracy: 0.9378 - loss: 0.2161 - val_accuracy: 0.7978 - val_loss: 1.2977\n",
            "Epoch 20/20\n",
            "\u001b[1m175/175\u001b[0m \u001b[32m━━━━━━━━━━━━━━━━━━━━\u001b[0m\u001b[37m\u001b[0m \u001b[1m1s\u001b[0m 4ms/step - accuracy: 0.9397 - loss: 0.2082 - val_accuracy: 0.7978 - val_loss: 1.3250\n",
            "\u001b[1m57/57\u001b[0m \u001b[32m━━━━━━━━━━━━━━━━━━━━\u001b[0m\u001b[37m\u001b[0m \u001b[1m0s\u001b[0m 3ms/step\n",
            "\n",
            "1D CNN Metrics for fold 1:\n",
            "Accuracy: 0.9539\n",
            "Precision: 0.9099\n",
            "Recall: 0.9539\n",
            "Sensitivity: 0.3333\n",
            "Specificity: 0.6667\n",
            "Confusion Matrix:\n",
            "[[   0   72    0]\n",
            " [   0 1737    0]\n",
            " [   0   12    0]]\n",
            "\n",
            "=== Fold 2 - Testing on subject AP02 ===\n",
            "\n",
            "Training 1D CNN...\n",
            "Epoch 1/20\n"
          ]
        },
        {
          "output_type": "stream",
          "name": "stderr",
          "text": [
            "/usr/local/lib/python3.11/dist-packages/keras/src/layers/convolutional/base_conv.py:107: UserWarning: Do not pass an `input_shape`/`input_dim` argument to a layer. When using Sequential models, prefer using an `Input(shape)` object as the first layer in the model instead.\n",
            "  super().__init__(activity_regularizer=activity_regularizer, **kwargs)\n"
          ]
        },
        {
          "output_type": "stream",
          "name": "stdout",
          "text": [
            "\u001b[1m176/176\u001b[0m \u001b[32m━━━━━━━━━━━━━━━━━━━━\u001b[0m\u001b[37m\u001b[0m \u001b[1m3s\u001b[0m 5ms/step - accuracy: 0.8951 - loss: 0.5066 - val_accuracy: 0.7987 - val_loss: 1.1513\n",
            "Epoch 2/20\n",
            "\u001b[1m176/176\u001b[0m \u001b[32m━━━━━━━━━━━━━━━━━━━━\u001b[0m\u001b[37m\u001b[0m \u001b[1m1s\u001b[0m 3ms/step - accuracy: 0.9541 - loss: 0.1888 - val_accuracy: 0.7987 - val_loss: 1.0620\n",
            "Epoch 3/20\n",
            "\u001b[1m176/176\u001b[0m \u001b[32m━━━━━━━━━━━━━━━━━━━━\u001b[0m\u001b[37m\u001b[0m \u001b[1m1s\u001b[0m 3ms/step - accuracy: 0.9553 - loss: 0.1711 - val_accuracy: 0.7987 - val_loss: 0.9823\n",
            "Epoch 4/20\n",
            "\u001b[1m176/176\u001b[0m \u001b[32m━━━━━━━━━━━━━━━━━━━━\u001b[0m\u001b[37m\u001b[0m \u001b[1m1s\u001b[0m 3ms/step - accuracy: 0.9514 - loss: 0.1797 - val_accuracy: 0.7987 - val_loss: 0.8886\n",
            "Epoch 5/20\n",
            "\u001b[1m176/176\u001b[0m \u001b[32m━━━━━━━━━━━━━━━━━━━━\u001b[0m\u001b[37m\u001b[0m \u001b[1m1s\u001b[0m 3ms/step - accuracy: 0.9644 - loss: 0.1512 - val_accuracy: 0.7987 - val_loss: 0.9370\n",
            "Epoch 6/20\n",
            "\u001b[1m176/176\u001b[0m \u001b[32m━━━━━━━━━━━━━━━━━━━━\u001b[0m\u001b[37m\u001b[0m \u001b[1m1s\u001b[0m 3ms/step - accuracy: 0.9567 - loss: 0.1690 - val_accuracy: 0.7987 - val_loss: 0.8669\n",
            "Epoch 7/20\n",
            "\u001b[1m176/176\u001b[0m \u001b[32m━━━━━━━━━━━━━━━━━━━━\u001b[0m\u001b[37m\u001b[0m \u001b[1m1s\u001b[0m 3ms/step - accuracy: 0.9533 - loss: 0.1734 - val_accuracy: 0.7987 - val_loss: 0.8656\n",
            "Epoch 8/20\n",
            "\u001b[1m176/176\u001b[0m \u001b[32m━━━━━━━━━━━━━━━━━━━━\u001b[0m\u001b[37m\u001b[0m \u001b[1m1s\u001b[0m 3ms/step - accuracy: 0.9567 - loss: 0.1698 - val_accuracy: 0.7987 - val_loss: 0.9104\n",
            "Epoch 9/20\n",
            "\u001b[1m176/176\u001b[0m \u001b[32m━━━━━━━━━━━━━━━━━━━━\u001b[0m\u001b[37m\u001b[0m \u001b[1m1s\u001b[0m 3ms/step - accuracy: 0.9575 - loss: 0.1631 - val_accuracy: 0.7987 - val_loss: 0.8475\n",
            "Epoch 10/20\n",
            "\u001b[1m176/176\u001b[0m \u001b[32m━━━━━━━━━━━━━━━━━━━━\u001b[0m\u001b[37m\u001b[0m \u001b[1m1s\u001b[0m 3ms/step - accuracy: 0.9556 - loss: 0.1674 - val_accuracy: 0.7987 - val_loss: 0.9371\n",
            "Epoch 11/20\n",
            "\u001b[1m176/176\u001b[0m \u001b[32m━━━━━━━━━━━━━━━━━━━━\u001b[0m\u001b[37m\u001b[0m \u001b[1m1s\u001b[0m 5ms/step - accuracy: 0.9549 - loss: 0.1680 - val_accuracy: 0.7987 - val_loss: 0.9007\n",
            "Epoch 12/20\n",
            "\u001b[1m176/176\u001b[0m \u001b[32m━━━━━━━━━━━━━━━━━━━━\u001b[0m\u001b[37m\u001b[0m \u001b[1m1s\u001b[0m 5ms/step - accuracy: 0.9486 - loss: 0.1873 - val_accuracy: 0.7987 - val_loss: 1.0302\n",
            "Epoch 13/20\n",
            "\u001b[1m176/176\u001b[0m \u001b[32m━━━━━━━━━━━━━━━━━━━━\u001b[0m\u001b[37m\u001b[0m \u001b[1m1s\u001b[0m 5ms/step - accuracy: 0.9530 - loss: 0.1795 - val_accuracy: 0.7987 - val_loss: 0.9452\n",
            "Epoch 14/20\n",
            "\u001b[1m176/176\u001b[0m \u001b[32m━━━━━━━━━━━━━━━━━━━━\u001b[0m\u001b[37m\u001b[0m \u001b[1m1s\u001b[0m 5ms/step - accuracy: 0.9560 - loss: 0.1676 - val_accuracy: 0.7987 - val_loss: 0.9702\n",
            "Epoch 15/20\n",
            "\u001b[1m176/176\u001b[0m \u001b[32m━━━━━━━━━━━━━━━━━━━━\u001b[0m\u001b[37m\u001b[0m \u001b[1m1s\u001b[0m 4ms/step - accuracy: 0.9549 - loss: 0.1622 - val_accuracy: 0.7987 - val_loss: 0.9798\n",
            "Epoch 16/20\n",
            "\u001b[1m176/176\u001b[0m \u001b[32m━━━━━━━━━━━━━━━━━━━━\u001b[0m\u001b[37m\u001b[0m \u001b[1m1s\u001b[0m 3ms/step - accuracy: 0.9561 - loss: 0.1553 - val_accuracy: 0.7987 - val_loss: 0.8910\n",
            "Epoch 17/20\n",
            "\u001b[1m176/176\u001b[0m \u001b[32m━━━━━━━━━━━━━━━━━━━━\u001b[0m\u001b[37m\u001b[0m \u001b[1m1s\u001b[0m 3ms/step - accuracy: 0.9564 - loss: 0.1619 - val_accuracy: 0.7987 - val_loss: 0.9636\n",
            "Epoch 18/20\n",
            "\u001b[1m176/176\u001b[0m \u001b[32m━━━━━━━━━━━━━━━━━━━━\u001b[0m\u001b[37m\u001b[0m \u001b[1m1s\u001b[0m 3ms/step - accuracy: 0.9556 - loss: 0.1631 - val_accuracy: 0.7987 - val_loss: 0.9824\n",
            "Epoch 19/20\n",
            "\u001b[1m176/176\u001b[0m \u001b[32m━━━━━━━━━━━━━━━━━━━━\u001b[0m\u001b[37m\u001b[0m \u001b[1m1s\u001b[0m 3ms/step - accuracy: 0.9594 - loss: 0.1510 - val_accuracy: 0.7987 - val_loss: 0.9998\n",
            "Epoch 20/20\n",
            "\u001b[1m176/176\u001b[0m \u001b[32m━━━━━━━━━━━━━━━━━━━━\u001b[0m\u001b[37m\u001b[0m \u001b[1m1s\u001b[0m 3ms/step - accuracy: 0.9566 - loss: 0.1585 - val_accuracy: 0.7987 - val_loss: 0.9788\n",
            "\u001b[1m56/56\u001b[0m \u001b[32m━━━━━━━━━━━━━━━━━━━━\u001b[0m\u001b[37m\u001b[0m \u001b[1m0s\u001b[0m 3ms/step\n",
            "\n",
            "1D CNN Metrics for fold 2:\n",
            "Accuracy: 0.9197\n",
            "Precision: 0.8458\n",
            "Recall: 0.9197\n",
            "Sensitivity: 0.3333\n",
            "Specificity: 0.6667\n",
            "Confusion Matrix:\n",
            "[[   0  139    0]\n",
            " [   0 1626    0]\n",
            " [   0    3    0]]\n",
            "\n",
            "=== Fold 3 - Testing on subject AP03 ===\n",
            "\n",
            "Training 1D CNN...\n",
            "Epoch 1/20\n"
          ]
        },
        {
          "output_type": "stream",
          "name": "stderr",
          "text": [
            "/usr/local/lib/python3.11/dist-packages/keras/src/layers/convolutional/base_conv.py:107: UserWarning: Do not pass an `input_shape`/`input_dim` argument to a layer. When using Sequential models, prefer using an `Input(shape)` object as the first layer in the model instead.\n",
            "  super().__init__(activity_regularizer=activity_regularizer, **kwargs)\n"
          ]
        },
        {
          "output_type": "stream",
          "name": "stdout",
          "text": [
            "\u001b[1m178/178\u001b[0m \u001b[32m━━━━━━━━━━━━━━━━━━━━\u001b[0m\u001b[37m\u001b[0m \u001b[1m2s\u001b[0m 5ms/step - accuracy: 0.8433 - loss: 0.6184 - val_accuracy: 0.8000 - val_loss: 1.0199\n",
            "Epoch 2/20\n",
            "\u001b[1m178/178\u001b[0m \u001b[32m━━━━━━━━━━━━━━━━━━━━\u001b[0m\u001b[37m\u001b[0m \u001b[1m1s\u001b[0m 3ms/step - accuracy: 0.9361 - loss: 0.2396 - val_accuracy: 0.8000 - val_loss: 0.8646\n",
            "Epoch 3/20\n",
            "\u001b[1m178/178\u001b[0m \u001b[32m━━━━━━━━━━━━━━━━━━━━\u001b[0m\u001b[37m\u001b[0m \u001b[1m1s\u001b[0m 3ms/step - accuracy: 0.9366 - loss: 0.2378 - val_accuracy: 0.8000 - val_loss: 0.8621\n",
            "Epoch 4/20\n",
            "\u001b[1m178/178\u001b[0m \u001b[32m━━━━━━━━━━━━━━━━━━━━\u001b[0m\u001b[37m\u001b[0m \u001b[1m1s\u001b[0m 3ms/step - accuracy: 0.9312 - loss: 0.2435 - val_accuracy: 0.8000 - val_loss: 1.0081\n",
            "Epoch 5/20\n",
            "\u001b[1m178/178\u001b[0m \u001b[32m━━━━━━━━━━━━━━━━━━━━\u001b[0m\u001b[37m\u001b[0m \u001b[1m1s\u001b[0m 4ms/step - accuracy: 0.9376 - loss: 0.2354 - val_accuracy: 0.8000 - val_loss: 0.8841\n",
            "Epoch 6/20\n",
            "\u001b[1m178/178\u001b[0m \u001b[32m━━━━━━━━━━━━━━━━━━━━\u001b[0m\u001b[37m\u001b[0m \u001b[1m1s\u001b[0m 5ms/step - accuracy: 0.9323 - loss: 0.2341 - val_accuracy: 0.8000 - val_loss: 0.8011\n",
            "Epoch 7/20\n",
            "\u001b[1m178/178\u001b[0m \u001b[32m━━━━━━━━━━━━━━━━━━━━\u001b[0m\u001b[37m\u001b[0m \u001b[1m1s\u001b[0m 5ms/step - accuracy: 0.9349 - loss: 0.2364 - val_accuracy: 0.8000 - val_loss: 0.9626\n",
            "Epoch 8/20\n",
            "\u001b[1m178/178\u001b[0m \u001b[32m━━━━━━━━━━━━━━━━━━━━\u001b[0m\u001b[37m\u001b[0m \u001b[1m1s\u001b[0m 4ms/step - accuracy: 0.9326 - loss: 0.2365 - val_accuracy: 0.8000 - val_loss: 0.8231\n",
            "Epoch 9/20\n",
            "\u001b[1m178/178\u001b[0m \u001b[32m━━━━━━━━━━━━━━━━━━━━\u001b[0m\u001b[37m\u001b[0m \u001b[1m1s\u001b[0m 3ms/step - accuracy: 0.9357 - loss: 0.2345 - val_accuracy: 0.8000 - val_loss: 0.9571\n",
            "Epoch 10/20\n",
            "\u001b[1m178/178\u001b[0m \u001b[32m━━━━━━━━━━━━━━━━━━━━\u001b[0m\u001b[37m\u001b[0m \u001b[1m1s\u001b[0m 3ms/step - accuracy: 0.9296 - loss: 0.2400 - val_accuracy: 0.8000 - val_loss: 0.9984\n",
            "Epoch 11/20\n",
            "\u001b[1m178/178\u001b[0m \u001b[32m━━━━━━━━━━━━━━━━━━━━\u001b[0m\u001b[37m\u001b[0m \u001b[1m1s\u001b[0m 3ms/step - accuracy: 0.9367 - loss: 0.2269 - val_accuracy: 0.8000 - val_loss: 0.8615\n",
            "Epoch 12/20\n",
            "\u001b[1m178/178\u001b[0m \u001b[32m━━━━━━━━━━━━━━━━━━━━\u001b[0m\u001b[37m\u001b[0m \u001b[1m1s\u001b[0m 3ms/step - accuracy: 0.9347 - loss: 0.2278 - val_accuracy: 0.8000 - val_loss: 0.8643\n",
            "Epoch 13/20\n",
            "\u001b[1m178/178\u001b[0m \u001b[32m━━━━━━━━━━━━━━━━━━━━\u001b[0m\u001b[37m\u001b[0m \u001b[1m1s\u001b[0m 3ms/step - accuracy: 0.9338 - loss: 0.2314 - val_accuracy: 0.8000 - val_loss: 0.9494\n",
            "Epoch 14/20\n",
            "\u001b[1m178/178\u001b[0m \u001b[32m━━━━━━━━━━━━━━━━━━━━\u001b[0m\u001b[37m\u001b[0m \u001b[1m1s\u001b[0m 3ms/step - accuracy: 0.9352 - loss: 0.2309 - val_accuracy: 0.8000 - val_loss: 1.0953\n",
            "Epoch 15/20\n",
            "\u001b[1m178/178\u001b[0m \u001b[32m━━━━━━━━━━━━━━━━━━━━\u001b[0m\u001b[37m\u001b[0m \u001b[1m1s\u001b[0m 3ms/step - accuracy: 0.9360 - loss: 0.2244 - val_accuracy: 0.8000 - val_loss: 1.0706\n",
            "Epoch 16/20\n",
            "\u001b[1m178/178\u001b[0m \u001b[32m━━━━━━━━━━━━━━━━━━━━\u001b[0m\u001b[37m\u001b[0m \u001b[1m1s\u001b[0m 3ms/step - accuracy: 0.9404 - loss: 0.2176 - val_accuracy: 0.8000 - val_loss: 1.0495\n",
            "Epoch 17/20\n",
            "\u001b[1m178/178\u001b[0m \u001b[32m━━━━━━━━━━━━━━━━━━━━\u001b[0m\u001b[37m\u001b[0m \u001b[1m1s\u001b[0m 3ms/step - accuracy: 0.9336 - loss: 0.2320 - val_accuracy: 0.8000 - val_loss: 0.9811\n",
            "Epoch 18/20\n",
            "\u001b[1m178/178\u001b[0m \u001b[32m━━━━━━━━━━━━━━━━━━━━\u001b[0m\u001b[37m\u001b[0m \u001b[1m1s\u001b[0m 3ms/step - accuracy: 0.9317 - loss: 0.2317 - val_accuracy: 0.8000 - val_loss: 0.8823\n",
            "Epoch 19/20\n",
            "\u001b[1m178/178\u001b[0m \u001b[32m━━━━━━━━━━━━━━━━━━━━\u001b[0m\u001b[37m\u001b[0m \u001b[1m1s\u001b[0m 3ms/step - accuracy: 0.9346 - loss: 0.2263 - val_accuracy: 0.8000 - val_loss: 0.9636\n",
            "Epoch 20/20\n",
            "\u001b[1m178/178\u001b[0m \u001b[32m━━━━━━━━━━━━━━━━━━━━\u001b[0m\u001b[37m\u001b[0m \u001b[1m1s\u001b[0m 3ms/step - accuracy: 0.9357 - loss: 0.2209 - val_accuracy: 0.8000 - val_loss: 0.9645\n",
            "\u001b[1m53/53\u001b[0m \u001b[32m━━━━━━━━━━━━━━━━━━━━\u001b[0m\u001b[37m\u001b[0m \u001b[1m0s\u001b[0m 3ms/step\n",
            "\n",
            "1D CNN Metrics for fold 3:\n",
            "Accuracy: 0.9912\n",
            "Precision: 0.9824\n",
            "Recall: 0.9912\n",
            "Sensitivity: 0.3333\n",
            "Specificity: 0.6667\n",
            "Confusion Matrix:\n",
            "[[   0   14    0]\n",
            " [   0 1680    0]\n",
            " [   0    1    0]]\n",
            "\n",
            "=== Fold 4 - Testing on subject AP04 ===\n",
            "\n",
            "Training 1D CNN...\n",
            "Epoch 1/20\n"
          ]
        },
        {
          "output_type": "stream",
          "name": "stderr",
          "text": [
            "/usr/local/lib/python3.11/dist-packages/keras/src/layers/convolutional/base_conv.py:107: UserWarning: Do not pass an `input_shape`/`input_dim` argument to a layer. When using Sequential models, prefer using an `Input(shape)` object as the first layer in the model instead.\n",
            "  super().__init__(activity_regularizer=activity_regularizer, **kwargs)\n"
          ]
        },
        {
          "output_type": "stream",
          "name": "stdout",
          "text": [
            "\u001b[1m172/172\u001b[0m \u001b[32m━━━━━━━━━━━━━━━━━━━━\u001b[0m\u001b[37m\u001b[0m \u001b[1m3s\u001b[0m 7ms/step - accuracy: 0.9077 - loss: 0.5673 - val_accuracy: 0.7968 - val_loss: 0.9001\n",
            "Epoch 2/20\n",
            "\u001b[1m172/172\u001b[0m \u001b[32m━━━━━━━━━━━━━━━━━━━━\u001b[0m\u001b[37m\u001b[0m \u001b[1m1s\u001b[0m 5ms/step - accuracy: 0.9576 - loss: 0.1806 - val_accuracy: 0.7968 - val_loss: 0.9612\n",
            "Epoch 3/20\n",
            "\u001b[1m172/172\u001b[0m \u001b[32m━━━━━━━━━━━━━━━━━━━━\u001b[0m\u001b[37m\u001b[0m \u001b[1m1s\u001b[0m 4ms/step - accuracy: 0.9502 - loss: 0.1905 - val_accuracy: 0.7968 - val_loss: 0.7960\n",
            "Epoch 4/20\n",
            "\u001b[1m172/172\u001b[0m \u001b[32m━━━━━━━━━━━━━━━━━━━━\u001b[0m\u001b[37m\u001b[0m \u001b[1m1s\u001b[0m 3ms/step - accuracy: 0.9511 - loss: 0.1863 - val_accuracy: 0.7968 - val_loss: 0.7063\n",
            "Epoch 5/20\n",
            "\u001b[1m172/172\u001b[0m \u001b[32m━━━━━━━━━━━━━━━━━━━━\u001b[0m\u001b[37m\u001b[0m \u001b[1m1s\u001b[0m 4ms/step - accuracy: 0.9600 - loss: 0.1571 - val_accuracy: 0.7968 - val_loss: 0.6953\n",
            "Epoch 6/20\n",
            "\u001b[1m172/172\u001b[0m \u001b[32m━━━━━━━━━━━━━━━━━━━━\u001b[0m\u001b[37m\u001b[0m \u001b[1m1s\u001b[0m 3ms/step - accuracy: 0.9491 - loss: 0.1907 - val_accuracy: 0.7968 - val_loss: 0.7649\n",
            "Epoch 7/20\n",
            "\u001b[1m172/172\u001b[0m \u001b[32m━━━━━━━━━━━━━━━━━━━━\u001b[0m\u001b[37m\u001b[0m \u001b[1m1s\u001b[0m 3ms/step - accuracy: 0.9540 - loss: 0.1876 - val_accuracy: 0.7968 - val_loss: 0.7806\n",
            "Epoch 8/20\n",
            "\u001b[1m172/172\u001b[0m \u001b[32m━━━━━━━━━━━━━━━━━━━━\u001b[0m\u001b[37m\u001b[0m \u001b[1m1s\u001b[0m 4ms/step - accuracy: 0.9562 - loss: 0.1704 - val_accuracy: 0.7968 - val_loss: 0.7880\n",
            "Epoch 9/20\n",
            "\u001b[1m172/172\u001b[0m \u001b[32m━━━━━━━━━━━━━━━━━━━━\u001b[0m\u001b[37m\u001b[0m \u001b[1m1s\u001b[0m 3ms/step - accuracy: 0.9559 - loss: 0.1753 - val_accuracy: 0.7968 - val_loss: 0.6915\n",
            "Epoch 10/20\n",
            "\u001b[1m172/172\u001b[0m \u001b[32m━━━━━━━━━━━━━━━━━━━━\u001b[0m\u001b[37m\u001b[0m \u001b[1m1s\u001b[0m 3ms/step - accuracy: 0.9520 - loss: 0.1785 - val_accuracy: 0.7968 - val_loss: 0.7466\n",
            "Epoch 11/20\n",
            "\u001b[1m172/172\u001b[0m \u001b[32m━━━━━━━━━━━━━━━━━━━━\u001b[0m\u001b[37m\u001b[0m \u001b[1m1s\u001b[0m 3ms/step - accuracy: 0.9566 - loss: 0.1725 - val_accuracy: 0.7968 - val_loss: 0.7021\n",
            "Epoch 12/20\n",
            "\u001b[1m172/172\u001b[0m \u001b[32m━━━━━━━━━━━━━━━━━━━━\u001b[0m\u001b[37m\u001b[0m \u001b[1m1s\u001b[0m 4ms/step - accuracy: 0.9585 - loss: 0.1709 - val_accuracy: 0.7968 - val_loss: 0.7194\n",
            "Epoch 13/20\n",
            "\u001b[1m172/172\u001b[0m \u001b[32m━━━━━━━━━━━━━━━━━━━━\u001b[0m\u001b[37m\u001b[0m \u001b[1m1s\u001b[0m 3ms/step - accuracy: 0.9607 - loss: 0.1519 - val_accuracy: 0.7968 - val_loss: 0.7512\n",
            "Epoch 14/20\n",
            "\u001b[1m172/172\u001b[0m \u001b[32m━━━━━━━━━━━━━━━━━━━━\u001b[0m\u001b[37m\u001b[0m \u001b[1m1s\u001b[0m 3ms/step - accuracy: 0.9578 - loss: 0.1587 - val_accuracy: 0.7968 - val_loss: 0.7157\n",
            "Epoch 15/20\n",
            "\u001b[1m172/172\u001b[0m \u001b[32m━━━━━━━━━━━━━━━━━━━━\u001b[0m\u001b[37m\u001b[0m \u001b[1m1s\u001b[0m 3ms/step - accuracy: 0.9564 - loss: 0.1681 - val_accuracy: 0.7968 - val_loss: 0.7877\n",
            "Epoch 16/20\n",
            "\u001b[1m172/172\u001b[0m \u001b[32m━━━━━━━━━━━━━━━━━━━━\u001b[0m\u001b[37m\u001b[0m \u001b[1m1s\u001b[0m 3ms/step - accuracy: 0.9503 - loss: 0.1825 - val_accuracy: 0.7968 - val_loss: 0.7565\n",
            "Epoch 17/20\n",
            "\u001b[1m172/172\u001b[0m \u001b[32m━━━━━━━━━━━━━━━━━━━━\u001b[0m\u001b[37m\u001b[0m \u001b[1m1s\u001b[0m 5ms/step - accuracy: 0.9529 - loss: 0.1772 - val_accuracy: 0.7968 - val_loss: 0.7653\n",
            "Epoch 18/20\n",
            "\u001b[1m172/172\u001b[0m \u001b[32m━━━━━━━━━━━━━━━━━━━━\u001b[0m\u001b[37m\u001b[0m \u001b[1m1s\u001b[0m 5ms/step - accuracy: 0.9554 - loss: 0.1663 - val_accuracy: 0.7968 - val_loss: 0.6772\n",
            "Epoch 19/20\n",
            "\u001b[1m172/172\u001b[0m \u001b[32m━━━━━━━━━━━━━━━━━━━━\u001b[0m\u001b[37m\u001b[0m \u001b[1m1s\u001b[0m 5ms/step - accuracy: 0.9594 - loss: 0.1566 - val_accuracy: 0.7968 - val_loss: 0.7883\n",
            "Epoch 20/20\n",
            "\u001b[1m172/172\u001b[0m \u001b[32m━━━━━━━━━━━━━━━━━━━━\u001b[0m\u001b[37m\u001b[0m \u001b[1m1s\u001b[0m 6ms/step - accuracy: 0.9546 - loss: 0.1678 - val_accuracy: 0.7968 - val_loss: 0.7477\n",
            "\u001b[1m61/61\u001b[0m \u001b[32m━━━━━━━━━━━━━━━━━━━━\u001b[0m\u001b[37m\u001b[0m \u001b[1m0s\u001b[0m 3ms/step\n",
            "\n",
            "1D CNN Metrics for fold 4:\n",
            "Accuracy: 0.9228\n",
            "Precision: 0.8516\n",
            "Recall: 0.9228\n",
            "Sensitivity: 0.2500\n",
            "Specificity: 0.7500\n",
            "Confusion Matrix:\n",
            "[[   0    0    2    0]\n",
            " [   0    0  146    0]\n",
            " [   0    0 1781    0]\n",
            " [   0    0    1    0]]\n",
            "\n",
            "=== Fold 5 - Testing on subject AP05 ===\n",
            "\n",
            "Training 1D CNN...\n",
            "Epoch 1/20\n"
          ]
        },
        {
          "output_type": "stream",
          "name": "stderr",
          "text": [
            "/usr/local/lib/python3.11/dist-packages/keras/src/layers/convolutional/base_conv.py:107: UserWarning: Do not pass an `input_shape`/`input_dim` argument to a layer. When using Sequential models, prefer using an `Input(shape)` object as the first layer in the model instead.\n",
            "  super().__init__(activity_regularizer=activity_regularizer, **kwargs)\n"
          ]
        },
        {
          "output_type": "stream",
          "name": "stdout",
          "text": [
            "\u001b[1m181/181\u001b[0m \u001b[32m━━━━━━━━━━━━━━━━━━━━\u001b[0m\u001b[37m\u001b[0m \u001b[1m2s\u001b[0m 5ms/step - accuracy: 0.9051 - loss: 0.4978 - val_accuracy: 0.8988 - val_loss: 0.3355\n",
            "Epoch 2/20\n",
            "\u001b[1m181/181\u001b[0m \u001b[32m━━━━━━━━━━━━━━━━━━━━\u001b[0m\u001b[37m\u001b[0m \u001b[1m1s\u001b[0m 3ms/step - accuracy: 0.9546 - loss: 0.1921 - val_accuracy: 0.8988 - val_loss: 0.3342\n",
            "Epoch 3/20\n",
            "\u001b[1m181/181\u001b[0m \u001b[32m━━━━━━━━━━━━━━━━━━━━\u001b[0m\u001b[37m\u001b[0m \u001b[1m1s\u001b[0m 3ms/step - accuracy: 0.9570 - loss: 0.1704 - val_accuracy: 0.8988 - val_loss: 0.3337\n",
            "Epoch 4/20\n",
            "\u001b[1m181/181\u001b[0m \u001b[32m━━━━━━━━━━━━━━━━━━━━\u001b[0m\u001b[37m\u001b[0m \u001b[1m1s\u001b[0m 3ms/step - accuracy: 0.9587 - loss: 0.1677 - val_accuracy: 0.8988 - val_loss: 0.3370\n",
            "Epoch 5/20\n",
            "\u001b[1m181/181\u001b[0m \u001b[32m━━━━━━━━━━━━━━━━━━━━\u001b[0m\u001b[37m\u001b[0m \u001b[1m1s\u001b[0m 3ms/step - accuracy: 0.9635 - loss: 0.1540 - val_accuracy: 0.8988 - val_loss: 0.3326\n",
            "Epoch 6/20\n",
            "\u001b[1m181/181\u001b[0m \u001b[32m━━━━━━━━━━━━━━━━━━━━\u001b[0m\u001b[37m\u001b[0m \u001b[1m1s\u001b[0m 3ms/step - accuracy: 0.9586 - loss: 0.1637 - val_accuracy: 0.8988 - val_loss: 0.3481\n",
            "Epoch 7/20\n",
            "\u001b[1m181/181\u001b[0m \u001b[32m━━━━━━━━━━━━━━━━━━━━\u001b[0m\u001b[37m\u001b[0m \u001b[1m1s\u001b[0m 5ms/step - accuracy: 0.9570 - loss: 0.1697 - val_accuracy: 0.8988 - val_loss: 0.3647\n",
            "Epoch 8/20\n",
            "\u001b[1m181/181\u001b[0m \u001b[32m━━━━━━━━━━━━━━━━━━━━\u001b[0m\u001b[37m\u001b[0m \u001b[1m1s\u001b[0m 3ms/step - accuracy: 0.9602 - loss: 0.1574 - val_accuracy: 0.8988 - val_loss: 0.3440\n",
            "Epoch 9/20\n",
            "\u001b[1m181/181\u001b[0m \u001b[32m━━━━━━━━━━━━━━━━━━━━\u001b[0m\u001b[37m\u001b[0m \u001b[1m1s\u001b[0m 5ms/step - accuracy: 0.9550 - loss: 0.1717 - val_accuracy: 0.8988 - val_loss: 0.3435\n",
            "Epoch 10/20\n",
            "\u001b[1m181/181\u001b[0m \u001b[32m━━━━━━━━━━━━━━━━━━━━\u001b[0m\u001b[37m\u001b[0m \u001b[1m1s\u001b[0m 5ms/step - accuracy: 0.9539 - loss: 0.1764 - val_accuracy: 0.8988 - val_loss: 0.3460\n",
            "Epoch 11/20\n",
            "\u001b[1m181/181\u001b[0m \u001b[32m━━━━━━━━━━━━━━━━━━━━\u001b[0m\u001b[37m\u001b[0m \u001b[1m1s\u001b[0m 6ms/step - accuracy: 0.9586 - loss: 0.1606 - val_accuracy: 0.8988 - val_loss: 0.3304\n",
            "Epoch 12/20\n",
            "\u001b[1m181/181\u001b[0m \u001b[32m━━━━━━━━━━━━━━━━━━━━\u001b[0m\u001b[37m\u001b[0m \u001b[1m1s\u001b[0m 3ms/step - accuracy: 0.9594 - loss: 0.1566 - val_accuracy: 0.8988 - val_loss: 0.3329\n",
            "Epoch 13/20\n",
            "\u001b[1m181/181\u001b[0m \u001b[32m━━━━━━━━━━━━━━━━━━━━\u001b[0m\u001b[37m\u001b[0m \u001b[1m1s\u001b[0m 3ms/step - accuracy: 0.9601 - loss: 0.1567 - val_accuracy: 0.8988 - val_loss: 0.3391\n",
            "Epoch 14/20\n",
            "\u001b[1m181/181\u001b[0m \u001b[32m━━━━━━━━━━━━━━━━━━━━\u001b[0m\u001b[37m\u001b[0m \u001b[1m1s\u001b[0m 3ms/step - accuracy: 0.9550 - loss: 0.1693 - val_accuracy: 0.8988 - val_loss: 0.3283\n",
            "Epoch 15/20\n",
            "\u001b[1m181/181\u001b[0m \u001b[32m━━━━━━━━━━━━━━━━━━━━\u001b[0m\u001b[37m\u001b[0m \u001b[1m1s\u001b[0m 3ms/step - accuracy: 0.9592 - loss: 0.1581 - val_accuracy: 0.8988 - val_loss: 0.3385\n",
            "Epoch 16/20\n",
            "\u001b[1m181/181\u001b[0m \u001b[32m━━━━━━━━━━━━━━━━━━━━\u001b[0m\u001b[37m\u001b[0m \u001b[1m1s\u001b[0m 3ms/step - accuracy: 0.9613 - loss: 0.1485 - val_accuracy: 0.8988 - val_loss: 0.3369\n",
            "Epoch 17/20\n",
            "\u001b[1m181/181\u001b[0m \u001b[32m━━━━━━━━━━━━━━━━━━━━\u001b[0m\u001b[37m\u001b[0m \u001b[1m1s\u001b[0m 3ms/step - accuracy: 0.9568 - loss: 0.1617 - val_accuracy: 0.8988 - val_loss: 0.3323\n",
            "Epoch 18/20\n",
            "\u001b[1m181/181\u001b[0m \u001b[32m━━━━━━━━━━━━━━━━━━━━\u001b[0m\u001b[37m\u001b[0m \u001b[1m1s\u001b[0m 3ms/step - accuracy: 0.9586 - loss: 0.1560 - val_accuracy: 0.8988 - val_loss: 0.3289\n",
            "Epoch 19/20\n",
            "\u001b[1m181/181\u001b[0m \u001b[32m━━━━━━━━━━━━━━━━━━━━\u001b[0m\u001b[37m\u001b[0m \u001b[1m1s\u001b[0m 3ms/step - accuracy: 0.9586 - loss: 0.1598 - val_accuracy: 0.8988 - val_loss: 0.3310\n",
            "Epoch 20/20\n",
            "\u001b[1m181/181\u001b[0m \u001b[32m━━━━━━━━━━━━━━━━━━━━\u001b[0m\u001b[37m\u001b[0m \u001b[1m1s\u001b[0m 3ms/step - accuracy: 0.9612 - loss: 0.1463 - val_accuracy: 0.8988 - val_loss: 0.3389\n",
            "\u001b[1m50/50\u001b[0m \u001b[32m━━━━━━━━━━━━━━━━━━━━\u001b[0m\u001b[37m\u001b[0m \u001b[1m0s\u001b[0m 3ms/step\n",
            "\n",
            "1D CNN Metrics for fold 5:\n",
            "Accuracy: 0.8184\n",
            "Precision: 0.6697\n",
            "Recall: 0.8184\n",
            "Sensitivity: 0.2000\n",
            "Specificity: 0.8000\n",
            "Confusion Matrix:\n",
            "[[   0    0    0    1    0]\n",
            " [   0    0    0  155    0]\n",
            " [   0    0    0    2    0]\n",
            " [   0    0    0 1293    0]\n",
            " [   0    0    0  129    0]]\n"
          ]
        }
      ]
    },
    {
      "cell_type": "code",
      "source": [
        "\n",
        "# Calculate and print aggregated results\n",
        "def print_aggregated_results(results, model_name):\n",
        "    print(f\"\\n=== Aggregated Results for {model_name} ===\")\n",
        "    for metric in results:\n",
        "        values = results[metric]\n",
        "        print(f\"{metric.capitalize()}: Mean = {np.mean(values):.4f}, Std = {np.std(values):.4f}\")\n",
        "\n",
        "print_aggregated_results(results_cnn, \"1D CNN\")\n"
      ],
      "metadata": {
        "colab": {
          "base_uri": "https://localhost:8080/"
        },
        "id": "3EIjjL5WhEEA",
        "outputId": "7cb6dbdf-a42c-44ce-e994-42660a76b9f5"
      },
      "execution_count": 13,
      "outputs": [
        {
          "output_type": "stream",
          "name": "stdout",
          "text": [
            "\n",
            "=== Aggregated Results for 1D CNN ===\n",
            "Accuracy: Mean = 0.9212, Std = 0.0575\n",
            "Precision: Mean = 0.8519, Std = 0.1036\n",
            "Recall: Mean = 0.9212, Std = 0.0575\n",
            "Sensitivity: Mean = 0.2900, Std = 0.0554\n",
            "Specificity: Mean = 0.7100, Std = 0.0554\n"
          ]
        }
      ]
    },
    {
      "cell_type": "markdown",
      "source": [
        "#conv LSTM model"
      ],
      "metadata": {
        "id": "Y0ZTSdPhehAr"
      }
    },
    {
      "cell_type": "code",
      "source": [
        "import numpy as np\n",
        "import pandas as pd\n",
        "import tensorflow as tf\n",
        "from tensorflow.keras.models import Sequential\n",
        "from tensorflow.keras.layers import Conv1D, MaxPooling1D, LSTM, Dense, Dropout, Flatten, TimeDistributed, Reshape\n",
        "from tensorflow.keras.optimizers import Adam\n",
        "from sklearn.model_selection import LeaveOneGroupOut\n",
        "from sklearn.metrics import accuracy_score, precision_score, recall_score, confusion_matrix\n",
        "from sklearn.preprocessing import LabelEncoder, StandardScaler\n",
        "import matplotlib.pyplot as plt"
      ],
      "metadata": {
        "id": "1n3wlgEshrwp"
      },
      "execution_count": 14,
      "outputs": []
    },
    {
      "cell_type": "code",
      "source": [
        "# Load datasets\n",
        "breathing_df = pd.read_csv('/content/drive/MyDrive/IITG_assignments/internship/Dataset/combined_breathing_dataset.csv')\n",
        "sleep_df = pd.read_csv('/content/drive/MyDrive/IITG_assignments/internship/Dataset/combined_sleep_stage_dataset.csv')\n",
        "\n",
        "# Convert datetime columns\n",
        "breathing_df['window_start'] = pd.to_datetime(breathing_df['window_start'])\n",
        "breathing_df['window_end'] = pd.to_datetime(breathing_df['window_end'])\n",
        "sleep_df['window_start'] = pd.to_datetime(sleep_df['window_start'])\n",
        "sleep_df['window_end'] = pd.to_datetime(sleep_df['window_end'])\n",
        "\n",
        "# Merge datasets - keep only the sleep_stage from sleep_df\n",
        "merged_df = pd.merge(\n",
        "    breathing_df.drop('sleep_stage', axis=1),  # Remove sleep_stage from breathing_df to avoid duplicate columns\n",
        "    sleep_df[['subject', 'window_start', 'window_end', 'sleep_stage']],\n",
        "    on=['subject', 'window_start', 'window_end'],\n",
        "    how='inner'\n",
        ")\n",
        "\n",
        "# Verify merge\n",
        "print(\"Merged dataset columns:\", merged_df.columns)\n",
        "print(\"\\nMerged dataset head:\")\n",
        "print(merged_df.head())"
      ],
      "metadata": {
        "colab": {
          "base_uri": "https://localhost:8080/"
        },
        "id": "O8eTbQ_shzIf",
        "outputId": "b11c3797-4f62-49c1-d118-79a122644b2d"
      },
      "execution_count": 15,
      "outputs": [
        {
          "output_type": "stream",
          "name": "stdout",
          "text": [
            "Merged dataset columns: Index(['subject', 'window_start', 'window_end', 'flow_mean', 'thoracic_mean',\n",
            "       'label', 'overlap_seconds', 'sleep_stage'],\n",
            "      dtype='object')\n",
            "\n",
            "Merged dataset head:\n",
            "  subject        window_start          window_end  flow_mean  thoracic_mean  \\\n",
            "0    AP01 2024-05-30 20:59:00 2024-05-30 20:59:30  -2.402243       0.951803   \n",
            "1    AP01 2024-05-30 20:59:15 2024-05-30 20:59:45   0.979846       1.261949   \n",
            "2    AP01 2024-05-30 20:59:30 2024-05-30 21:00:00  -2.549896       1.604093   \n",
            "3    AP01 2024-05-30 20:59:45 2024-05-30 21:00:15  -3.223234       1.264346   \n",
            "4    AP01 2024-05-30 21:00:00 2024-05-30 21:00:30  -2.825299       0.222740   \n",
            "\n",
            "    label  overlap_seconds sleep_stage  \n",
            "0  Normal              0.0        Wake  \n",
            "1  Normal              0.0        Wake  \n",
            "2  Normal              0.0        Wake  \n",
            "3  Normal              0.0        Wake  \n",
            "4  Normal              0.0        Wake  \n"
          ]
        }
      ]
    },
    {
      "cell_type": "markdown",
      "source": [
        "# Preprocessing"
      ],
      "metadata": {
        "id": "GlhRAOq-h2z-"
      }
    },
    {
      "cell_type": "code",
      "source": [
        "# Encode labels\n",
        "label_encoder = LabelEncoder()\n",
        "merged_df['label_encoded'] = label_encoder.fit_transform(merged_df['label'])\n",
        "\n",
        "# One-hot encode sleep stage\n",
        "sleep_stage_dummies = pd.get_dummies(merged_df['sleep_stage'], prefix='sleep')\n",
        "\n",
        "# Features and labels\n",
        "numeric_features = ['flow_mean', 'thoracic_mean']\n",
        "X_numeric = merged_df[numeric_features]\n",
        "X = pd.concat([X_numeric, sleep_stage_dummies], axis=1)\n",
        "y = merged_df['label_encoded']\n",
        "groups = merged_df['subject'].values\n",
        "\n",
        "# Standardize numerical features\n",
        "scaler = StandardScaler()\n",
        "X[numeric_features] = scaler.fit_transform(X[numeric_features])\n",
        "\n",
        "# Convert to numpy arrays\n",
        "X = X.values.astype('float32')\n",
        "y = y.values\n",
        "groups = merged_df['subject'].values\n",
        "\n",
        "# Reshape data for Conv-LSTM (samples, timesteps, features, channels)\n",
        "X_reshaped = X.reshape(X.shape[0], 1, X.shape[1], 1)  # (samples, timesteps, features, channels)\n",
        "\n",
        "# Define Leave-One-Subject-Out cross-validator\n",
        "logo = LeaveOneGroupOut()\n",
        "\n",
        "# Initialize dictionaries to store results\n",
        "results_conv_lstm = {'accuracy': [], 'precision': [], 'recall': [], 'sensitivity': [], 'specificity': []}\n"
      ],
      "metadata": {
        "id": "Pmudgltdh9zF"
      },
      "execution_count": 16,
      "outputs": []
    },
    {
      "cell_type": "code",
      "source": [
        "def create_conv_lstm(input_shape, num_classes):\n",
        "    model = Sequential([\n",
        "        # Input shape: (timesteps, features, channels)\n",
        "        TimeDistributed(Conv1D(64, kernel_size=1, activation='relu'), input_shape=input_shape),\n",
        "        TimeDistributed(MaxPooling1D(pool_size=1)),\n",
        "        TimeDistributed(Conv1D(128, kernel_size=1, activation='relu')),\n",
        "        TimeDistributed(MaxPooling1D(pool_size=1)),\n",
        "        TimeDistributed(Flatten()),\n",
        "        LSTM(128, return_sequences=False),\n",
        "        Dense(64, activation='relu'),\n",
        "        Dropout(0.5),\n",
        "        Dense(num_classes, activation='softmax')\n",
        "    ])\n",
        "    model.compile(optimizer=Adam(learning_rate=0.001),\n",
        "                 loss='sparse_categorical_crossentropy',\n",
        "                 metrics=['accuracy'])\n",
        "    return model\n",
        "\n",
        "def calculate_metrics(y_true, y_pred):\n",
        "    cm = confusion_matrix(y_true, y_pred)\n",
        "    num_classes = cm.shape[0]\n",
        "\n",
        "    metrics = {\n",
        "        'accuracy': accuracy_score(y_true, y_pred),\n",
        "        'precision': precision_score(y_true, y_pred, average='weighted', zero_division=0),\n",
        "        'recall': recall_score(y_true, y_pred, average='weighted', zero_division=0),\n",
        "        'sensitivity': 0,\n",
        "        'specificity': 0\n",
        "    }\n",
        "\n",
        "    # For binary classification\n",
        "    if num_classes == 2:\n",
        "        tn, fp, fn, tp = cm.ravel()\n",
        "        metrics['sensitivity'] = tp / (tp + fn)\n",
        "        metrics['specificity'] = tn / (tn + fp)\n",
        "    # For multi-class classification\n",
        "    else:\n",
        "        # Calculate sensitivity (recall for each class)\n",
        "        recalls = recall_score(y_true, y_pred, average=None, zero_division=0)\n",
        "        metrics['sensitivity'] = np.mean(recalls)\n",
        "\n",
        "        # Calculate specificity (requires more complex calculation)\n",
        "        specificities = []\n",
        "        for i in range(num_classes):\n",
        "            tn = np.sum(np.delete(np.delete(cm, i, axis=0), i, axis=1))\n",
        "            fp = np.sum(cm[:, i]) - cm[i, i]\n",
        "            specificities.append(tn / (tn + fp))\n",
        "        metrics['specificity'] = np.mean(specificities)\n",
        "\n",
        "    return metrics, cm"
      ],
      "metadata": {
        "id": "7JENgXdciEK4"
      },
      "execution_count": 17,
      "outputs": []
    },
    {
      "cell_type": "code",
      "source": [
        "# Perform Leave-One-Subject-Out cross-validation\n",
        "for fold, (train_idx, test_idx) in enumerate(logo.split(X, y, groups)):\n",
        "    print(f\"\\n=== Fold {fold+1} - Testing on subject {groups[test_idx[0]]} ===\")\n",
        "\n",
        "    # Split data\n",
        "    X_train, X_test = X_reshaped[train_idx], X_reshaped[test_idx]\n",
        "    y_train, y_test = y[train_idx], y[test_idx]\n",
        "\n",
        "    # Get input shape\n",
        "    input_shape = (X_train.shape[1], X_train.shape[2], X_train.shape[3])  # (timesteps, features, channels)\n",
        "    num_classes = len(np.unique(y))\n",
        "\n",
        "    # Train and evaluate Conv-LSTM\n",
        "    print(\"\\nTraining Conv-LSTM...\")\n",
        "    conv_lstm_model = create_conv_lstm(input_shape, num_classes)\n",
        "    conv_lstm_history = conv_lstm_model.fit(X_train, y_train,\n",
        "                                           epochs=20,\n",
        "                                           batch_size=32,\n",
        "                                           validation_split=0.2,\n",
        "                                           verbose=1)\n",
        "\n",
        "    # Evaluate Conv-LSTM\n",
        "    conv_lstm_pred = np.argmax(conv_lstm_model.predict(X_test), axis=1)\n",
        "\n",
        "    # Calculate metrics\n",
        "    conv_lstm_metrics, conv_lstm_cm = calculate_metrics(y_test, conv_lstm_pred)\n",
        "\n",
        "    # Store results\n",
        "    results_conv_lstm['accuracy'].append(conv_lstm_metrics['accuracy'])\n",
        "    results_conv_lstm['precision'].append(conv_lstm_metrics['precision'])\n",
        "    results_conv_lstm['recall'].append(conv_lstm_metrics['recall'])\n",
        "    results_conv_lstm['sensitivity'].append(conv_lstm_metrics['sensitivity'])\n",
        "    results_conv_lstm['specificity'].append(conv_lstm_metrics['specificity'])\n",
        "\n",
        "    # Print metrics\n",
        "    print(f\"\\nConv-LSTM Metrics for fold {fold+1}:\")\n",
        "    print(f\"Accuracy: {conv_lstm_metrics['accuracy']:.4f}\")\n",
        "    print(f\"Precision: {conv_lstm_metrics['precision']:.4f}\")\n",
        "    print(f\"Recall: {conv_lstm_metrics['recall']:.4f}\")\n",
        "    print(f\"Sensitivity: {conv_lstm_metrics['sensitivity']:.4f}\")\n",
        "    print(f\"Specificity: {conv_lstm_metrics['specificity']:.4f}\")\n",
        "    print(\"Confusion Matrix:\")\n",
        "    print(conv_lstm_cm)"
      ],
      "metadata": {
        "colab": {
          "base_uri": "https://localhost:8080/"
        },
        "id": "A5gVJAfGiL2E",
        "outputId": "23566ea4-3360-4e7e-cd12-65ad226fc2ef"
      },
      "execution_count": 18,
      "outputs": [
        {
          "output_type": "stream",
          "name": "stdout",
          "text": [
            "\n",
            "=== Fold 1 - Testing on subject AP01 ===\n",
            "\n",
            "Training Conv-LSTM...\n",
            "Epoch 1/20\n"
          ]
        },
        {
          "output_type": "stream",
          "name": "stderr",
          "text": [
            "/usr/local/lib/python3.11/dist-packages/keras/src/layers/core/wrapper.py:27: UserWarning: Do not pass an `input_shape`/`input_dim` argument to a layer. When using Sequential models, prefer using an `Input(shape)` object as the first layer in the model instead.\n",
            "  super().__init__(**kwargs)\n"
          ]
        },
        {
          "output_type": "stream",
          "name": "stdout",
          "text": [
            "\u001b[1m175/175\u001b[0m \u001b[32m━━━━━━━━━━━━━━━━━━━━\u001b[0m\u001b[37m\u001b[0m \u001b[1m8s\u001b[0m 24ms/step - accuracy: 0.8963 - loss: 0.6135 - val_accuracy: 0.7978 - val_loss: 1.3871\n",
            "Epoch 2/20\n",
            "\u001b[1m175/175\u001b[0m \u001b[32m━━━━━━━━━━━━━━━━━━━━\u001b[0m\u001b[37m\u001b[0m \u001b[1m3s\u001b[0m 15ms/step - accuracy: 0.9455 - loss: 0.2220 - val_accuracy: 0.7978 - val_loss: 1.1993\n",
            "Epoch 3/20\n",
            "\u001b[1m175/175\u001b[0m \u001b[32m━━━━━━━━━━━━━━━━━━━━\u001b[0m\u001b[37m\u001b[0m \u001b[1m3s\u001b[0m 15ms/step - accuracy: 0.9443 - loss: 0.2123 - val_accuracy: 0.7978 - val_loss: 1.1035\n",
            "Epoch 4/20\n",
            "\u001b[1m175/175\u001b[0m \u001b[32m━━━━━━━━━━━━━━━━━━━━\u001b[0m\u001b[37m\u001b[0m \u001b[1m3s\u001b[0m 16ms/step - accuracy: 0.9449 - loss: 0.2118 - val_accuracy: 0.7978 - val_loss: 1.1819\n",
            "Epoch 5/20\n",
            "\u001b[1m175/175\u001b[0m \u001b[32m━━━━━━━━━━━━━━━━━━━━\u001b[0m\u001b[37m\u001b[0m \u001b[1m5s\u001b[0m 26ms/step - accuracy: 0.9415 - loss: 0.2175 - val_accuracy: 0.7978 - val_loss: 1.3077\n",
            "Epoch 6/20\n",
            "\u001b[1m175/175\u001b[0m \u001b[32m━━━━━━━━━━━━━━━━━━━━\u001b[0m\u001b[37m\u001b[0m \u001b[1m3s\u001b[0m 16ms/step - accuracy: 0.9454 - loss: 0.2085 - val_accuracy: 0.7978 - val_loss: 1.0447\n",
            "Epoch 7/20\n",
            "\u001b[1m175/175\u001b[0m \u001b[32m━━━━━━━━━━━━━━━━━━━━\u001b[0m\u001b[37m\u001b[0m \u001b[1m2s\u001b[0m 14ms/step - accuracy: 0.9455 - loss: 0.2063 - val_accuracy: 0.7978 - val_loss: 1.1221\n",
            "Epoch 8/20\n",
            "\u001b[1m175/175\u001b[0m \u001b[32m━━━━━━━━━━━━━━━━━━━━\u001b[0m\u001b[37m\u001b[0m \u001b[1m2s\u001b[0m 14ms/step - accuracy: 0.9484 - loss: 0.2024 - val_accuracy: 0.7978 - val_loss: 1.2116\n",
            "Epoch 9/20\n",
            "\u001b[1m175/175\u001b[0m \u001b[32m━━━━━━━━━━━━━━━━━━━━\u001b[0m\u001b[37m\u001b[0m \u001b[1m3s\u001b[0m 14ms/step - accuracy: 0.9396 - loss: 0.2253 - val_accuracy: 0.7978 - val_loss: 1.1118\n",
            "Epoch 10/20\n",
            "\u001b[1m175/175\u001b[0m \u001b[32m━━━━━━━━━━━━━━━━━━━━\u001b[0m\u001b[37m\u001b[0m \u001b[1m4s\u001b[0m 21ms/step - accuracy: 0.9421 - loss: 0.2106 - val_accuracy: 0.7978 - val_loss: 1.0416\n",
            "Epoch 11/20\n",
            "\u001b[1m175/175\u001b[0m \u001b[32m━━━━━━━━━━━━━━━━━━━━\u001b[0m\u001b[37m\u001b[0m \u001b[1m3s\u001b[0m 16ms/step - accuracy: 0.9402 - loss: 0.2168 - val_accuracy: 0.7978 - val_loss: 0.9958\n",
            "Epoch 12/20\n",
            "\u001b[1m175/175\u001b[0m \u001b[32m━━━━━━━━━━━━━━━━━━━━\u001b[0m\u001b[37m\u001b[0m \u001b[1m5s\u001b[0m 14ms/step - accuracy: 0.9458 - loss: 0.2015 - val_accuracy: 0.7978 - val_loss: 1.0472\n",
            "Epoch 13/20\n",
            "\u001b[1m175/175\u001b[0m \u001b[32m━━━━━━━━━━━━━━━━━━━━\u001b[0m\u001b[37m\u001b[0m \u001b[1m3s\u001b[0m 18ms/step - accuracy: 0.9460 - loss: 0.1990 - val_accuracy: 0.7978 - val_loss: 0.9909\n",
            "Epoch 14/20\n",
            "\u001b[1m175/175\u001b[0m \u001b[32m━━━━━━━━━━━━━━━━━━━━\u001b[0m\u001b[37m\u001b[0m \u001b[1m4s\u001b[0m 22ms/step - accuracy: 0.9443 - loss: 0.1990 - val_accuracy: 0.7978 - val_loss: 0.8565\n",
            "Epoch 15/20\n",
            "\u001b[1m175/175\u001b[0m \u001b[32m━━━━━━━━━━━━━━━━━━━━\u001b[0m\u001b[37m\u001b[0m \u001b[1m4s\u001b[0m 16ms/step - accuracy: 0.9436 - loss: 0.2040 - val_accuracy: 0.7978 - val_loss: 0.9241\n",
            "Epoch 16/20\n",
            "\u001b[1m175/175\u001b[0m \u001b[32m━━━━━━━━━━━━━━━━━━━━\u001b[0m\u001b[37m\u001b[0m \u001b[1m5s\u001b[0m 14ms/step - accuracy: 0.9381 - loss: 0.2159 - val_accuracy: 0.7978 - val_loss: 1.0566\n",
            "Epoch 17/20\n",
            "\u001b[1m175/175\u001b[0m \u001b[32m━━━━━━━━━━━━━━━━━━━━\u001b[0m\u001b[37m\u001b[0m \u001b[1m3s\u001b[0m 18ms/step - accuracy: 0.9437 - loss: 0.1969 - val_accuracy: 0.7978 - val_loss: 0.9613\n",
            "Epoch 18/20\n",
            "\u001b[1m175/175\u001b[0m \u001b[32m━━━━━━━━━━━━━━━━━━━━\u001b[0m\u001b[37m\u001b[0m \u001b[1m5s\u001b[0m 15ms/step - accuracy: 0.9474 - loss: 0.1889 - val_accuracy: 0.7978 - val_loss: 0.9759\n",
            "Epoch 19/20\n",
            "\u001b[1m175/175\u001b[0m \u001b[32m━━━━━━━━━━━━━━━━━━━━\u001b[0m\u001b[37m\u001b[0m \u001b[1m3s\u001b[0m 15ms/step - accuracy: 0.9437 - loss: 0.2027 - val_accuracy: 0.7978 - val_loss: 0.9236\n",
            "Epoch 20/20\n",
            "\u001b[1m175/175\u001b[0m \u001b[32m━━━━━━━━━━━━━━━━━━━━\u001b[0m\u001b[37m\u001b[0m \u001b[1m6s\u001b[0m 18ms/step - accuracy: 0.9456 - loss: 0.1964 - val_accuracy: 0.7978 - val_loss: 0.9495\n",
            "\u001b[1m57/57\u001b[0m \u001b[32m━━━━━━━━━━━━━━━━━━━━\u001b[0m\u001b[37m\u001b[0m \u001b[1m1s\u001b[0m 8ms/step\n",
            "\n",
            "Conv-LSTM Metrics for fold 1:\n",
            "Accuracy: 0.9539\n",
            "Precision: 0.9099\n",
            "Recall: 0.9539\n",
            "Sensitivity: 0.3333\n",
            "Specificity: 0.6667\n",
            "Confusion Matrix:\n",
            "[[   0   72    0]\n",
            " [   0 1737    0]\n",
            " [   0   12    0]]\n",
            "\n",
            "=== Fold 2 - Testing on subject AP02 ===\n",
            "\n",
            "Training Conv-LSTM...\n",
            "Epoch 1/20\n"
          ]
        },
        {
          "output_type": "stream",
          "name": "stderr",
          "text": [
            "/usr/local/lib/python3.11/dist-packages/keras/src/layers/core/wrapper.py:27: UserWarning: Do not pass an `input_shape`/`input_dim` argument to a layer. When using Sequential models, prefer using an `Input(shape)` object as the first layer in the model instead.\n",
            "  super().__init__(**kwargs)\n"
          ]
        },
        {
          "output_type": "stream",
          "name": "stdout",
          "text": [
            "\u001b[1m176/176\u001b[0m \u001b[32m━━━━━━━━━━━━━━━━━━━━\u001b[0m\u001b[37m\u001b[0m \u001b[1m7s\u001b[0m 18ms/step - accuracy: 0.9271 - loss: 0.5498 - val_accuracy: 0.7987 - val_loss: 1.0313\n",
            "Epoch 2/20\n",
            "\u001b[1m176/176\u001b[0m \u001b[32m━━━━━━━━━━━━━━━━━━━━\u001b[0m\u001b[37m\u001b[0m \u001b[1m3s\u001b[0m 18ms/step - accuracy: 0.9543 - loss: 0.1976 - val_accuracy: 0.7987 - val_loss: 0.8977\n",
            "Epoch 3/20\n",
            "\u001b[1m176/176\u001b[0m \u001b[32m━━━━━━━━━━━━━━━━━━━━\u001b[0m\u001b[37m\u001b[0m \u001b[1m5s\u001b[0m 16ms/step - accuracy: 0.9515 - loss: 0.1933 - val_accuracy: 0.7987 - val_loss: 0.8536\n",
            "Epoch 4/20\n",
            "\u001b[1m176/176\u001b[0m \u001b[32m━━━━━━━━━━━━━━━━━━━━\u001b[0m\u001b[37m\u001b[0m \u001b[1m5s\u001b[0m 15ms/step - accuracy: 0.9577 - loss: 0.1838 - val_accuracy: 0.7987 - val_loss: 0.9152\n",
            "Epoch 5/20\n",
            "\u001b[1m176/176\u001b[0m \u001b[32m━━━━━━━━━━━━━━━━━━━━\u001b[0m\u001b[37m\u001b[0m \u001b[1m6s\u001b[0m 22ms/step - accuracy: 0.9546 - loss: 0.1858 - val_accuracy: 0.7987 - val_loss: 0.9708\n",
            "Epoch 6/20\n",
            "\u001b[1m176/176\u001b[0m \u001b[32m━━━━━━━━━━━━━━━━━━━━\u001b[0m\u001b[37m\u001b[0m \u001b[1m3s\u001b[0m 15ms/step - accuracy: 0.9536 - loss: 0.1778 - val_accuracy: 0.7987 - val_loss: 0.9203\n",
            "Epoch 7/20\n",
            "\u001b[1m176/176\u001b[0m \u001b[32m━━━━━━━━━━━━━━━━━━━━\u001b[0m\u001b[37m\u001b[0m \u001b[1m5s\u001b[0m 15ms/step - accuracy: 0.9540 - loss: 0.1871 - val_accuracy: 0.7987 - val_loss: 0.7987\n",
            "Epoch 8/20\n",
            "\u001b[1m176/176\u001b[0m \u001b[32m━━━━━━━━━━━━━━━━━━━━\u001b[0m\u001b[37m\u001b[0m \u001b[1m3s\u001b[0m 18ms/step - accuracy: 0.9519 - loss: 0.1822 - val_accuracy: 0.7987 - val_loss: 0.7767\n",
            "Epoch 9/20\n",
            "\u001b[1m176/176\u001b[0m \u001b[32m━━━━━━━━━━━━━━━━━━━━\u001b[0m\u001b[37m\u001b[0m \u001b[1m4s\u001b[0m 21ms/step - accuracy: 0.9562 - loss: 0.1713 - val_accuracy: 0.7987 - val_loss: 0.7961\n",
            "Epoch 10/20\n",
            "\u001b[1m176/176\u001b[0m \u001b[32m━━━━━━━━━━━━━━━━━━━━\u001b[0m\u001b[37m\u001b[0m \u001b[1m4s\u001b[0m 15ms/step - accuracy: 0.9571 - loss: 0.1706 - val_accuracy: 0.7987 - val_loss: 0.7527\n",
            "Epoch 11/20\n",
            "\u001b[1m176/176\u001b[0m \u001b[32m━━━━━━━━━━━━━━━━━━━━\u001b[0m\u001b[37m\u001b[0m \u001b[1m3s\u001b[0m 15ms/step - accuracy: 0.9545 - loss: 0.1754 - val_accuracy: 0.7987 - val_loss: 0.8684\n",
            "Epoch 12/20\n",
            "\u001b[1m176/176\u001b[0m \u001b[32m━━━━━━━━━━━━━━━━━━━━\u001b[0m\u001b[37m\u001b[0m \u001b[1m3s\u001b[0m 15ms/step - accuracy: 0.9488 - loss: 0.1961 - val_accuracy: 0.7987 - val_loss: 0.9086\n",
            "Epoch 13/20\n",
            "\u001b[1m176/176\u001b[0m \u001b[32m━━━━━━━━━━━━━━━━━━━━\u001b[0m\u001b[37m\u001b[0m \u001b[1m5s\u001b[0m 16ms/step - accuracy: 0.9567 - loss: 0.1584 - val_accuracy: 0.7987 - val_loss: 0.8524\n",
            "Epoch 14/20\n",
            "\u001b[1m176/176\u001b[0m \u001b[32m━━━━━━━━━━━━━━━━━━━━\u001b[0m\u001b[37m\u001b[0m \u001b[1m5s\u001b[0m 15ms/step - accuracy: 0.9558 - loss: 0.1668 - val_accuracy: 0.7987 - val_loss: 0.8736\n",
            "Epoch 15/20\n",
            "\u001b[1m176/176\u001b[0m \u001b[32m━━━━━━━━━━━━━━━━━━━━\u001b[0m\u001b[37m\u001b[0m \u001b[1m3s\u001b[0m 16ms/step - accuracy: 0.9604 - loss: 0.1630 - val_accuracy: 0.7987 - val_loss: 0.8493\n",
            "Epoch 16/20\n",
            "\u001b[1m176/176\u001b[0m \u001b[32m━━━━━━━━━━━━━━━━━━━━\u001b[0m\u001b[37m\u001b[0m \u001b[1m4s\u001b[0m 22ms/step - accuracy: 0.9578 - loss: 0.1648 - val_accuracy: 0.7987 - val_loss: 0.8365\n",
            "Epoch 17/20\n",
            "\u001b[1m176/176\u001b[0m \u001b[32m━━━━━━━━━━━━━━━━━━━━\u001b[0m\u001b[37m\u001b[0m \u001b[1m4s\u001b[0m 16ms/step - accuracy: 0.9572 - loss: 0.1617 - val_accuracy: 0.7987 - val_loss: 0.8016\n",
            "Epoch 18/20\n",
            "\u001b[1m176/176\u001b[0m \u001b[32m━━━━━━━━━━━━━━━━━━━━\u001b[0m\u001b[37m\u001b[0m \u001b[1m5s\u001b[0m 14ms/step - accuracy: 0.9540 - loss: 0.1713 - val_accuracy: 0.7987 - val_loss: 0.8670\n",
            "Epoch 19/20\n",
            "\u001b[1m176/176\u001b[0m \u001b[32m━━━━━━━━━━━━━━━━━━━━\u001b[0m\u001b[37m\u001b[0m \u001b[1m6s\u001b[0m 19ms/step - accuracy: 0.9545 - loss: 0.1631 - val_accuracy: 0.7987 - val_loss: 0.8999\n",
            "Epoch 20/20\n",
            "\u001b[1m176/176\u001b[0m \u001b[32m━━━━━━━━━━━━━━━━━━━━\u001b[0m\u001b[37m\u001b[0m \u001b[1m3s\u001b[0m 15ms/step - accuracy: 0.9605 - loss: 0.1499 - val_accuracy: 0.7987 - val_loss: 0.8372\n",
            "\u001b[1m56/56\u001b[0m \u001b[32m━━━━━━━━━━━━━━━━━━━━\u001b[0m\u001b[37m\u001b[0m \u001b[1m1s\u001b[0m 8ms/step\n",
            "\n",
            "Conv-LSTM Metrics for fold 2:\n",
            "Accuracy: 0.9197\n",
            "Precision: 0.8458\n",
            "Recall: 0.9197\n",
            "Sensitivity: 0.3333\n",
            "Specificity: 0.6667\n",
            "Confusion Matrix:\n",
            "[[   0  139    0]\n",
            " [   0 1626    0]\n",
            " [   0    3    0]]\n",
            "\n",
            "=== Fold 3 - Testing on subject AP03 ===\n",
            "\n",
            "Training Conv-LSTM...\n",
            "Epoch 1/20\n"
          ]
        },
        {
          "output_type": "stream",
          "name": "stderr",
          "text": [
            "/usr/local/lib/python3.11/dist-packages/keras/src/layers/core/wrapper.py:27: UserWarning: Do not pass an `input_shape`/`input_dim` argument to a layer. When using Sequential models, prefer using an `Input(shape)` object as the first layer in the model instead.\n",
            "  super().__init__(**kwargs)\n"
          ]
        },
        {
          "output_type": "stream",
          "name": "stdout",
          "text": [
            "\u001b[1m178/178\u001b[0m \u001b[32m━━━━━━━━━━━━━━━━━━━━\u001b[0m\u001b[37m\u001b[0m \u001b[1m8s\u001b[0m 25ms/step - accuracy: 0.8989 - loss: 0.6056 - val_accuracy: 0.8000 - val_loss: 0.9482\n",
            "Epoch 2/20\n",
            "\u001b[1m178/178\u001b[0m \u001b[32m━━━━━━━━━━━━━━━━━━━━\u001b[0m\u001b[37m\u001b[0m \u001b[1m3s\u001b[0m 16ms/step - accuracy: 0.9301 - loss: 0.2724 - val_accuracy: 0.8000 - val_loss: 0.8248\n",
            "Epoch 3/20\n",
            "\u001b[1m178/178\u001b[0m \u001b[32m━━━━━━━━━━━━━━━━━━━━\u001b[0m\u001b[37m\u001b[0m \u001b[1m3s\u001b[0m 15ms/step - accuracy: 0.9281 - loss: 0.2677 - val_accuracy: 0.8000 - val_loss: 0.8519\n",
            "Epoch 4/20\n",
            "\u001b[1m178/178\u001b[0m \u001b[32m━━━━━━━━━━━━━━━━━━━━\u001b[0m\u001b[37m\u001b[0m \u001b[1m5s\u001b[0m 16ms/step - accuracy: 0.9372 - loss: 0.2432 - val_accuracy: 0.8000 - val_loss: 0.8124\n",
            "Epoch 5/20\n",
            "\u001b[1m178/178\u001b[0m \u001b[32m━━━━━━━━━━━━━━━━━━━━\u001b[0m\u001b[37m\u001b[0m \u001b[1m5s\u001b[0m 16ms/step - accuracy: 0.9337 - loss: 0.2444 - val_accuracy: 0.8000 - val_loss: 0.7970\n",
            "Epoch 6/20\n",
            "\u001b[1m178/178\u001b[0m \u001b[32m━━━━━━━━━━━━━━━━━━━━\u001b[0m\u001b[37m\u001b[0m \u001b[1m3s\u001b[0m 15ms/step - accuracy: 0.9329 - loss: 0.2437 - val_accuracy: 0.8000 - val_loss: 0.7208\n",
            "Epoch 7/20\n",
            "\u001b[1m178/178\u001b[0m \u001b[32m━━━━━━━━━━━━━━━━━━━━\u001b[0m\u001b[37m\u001b[0m \u001b[1m3s\u001b[0m 15ms/step - accuracy: 0.9318 - loss: 0.2446 - val_accuracy: 0.8000 - val_loss: 0.8788\n",
            "Epoch 8/20\n",
            "\u001b[1m178/178\u001b[0m \u001b[32m━━━━━━━━━━━━━━━━━━━━\u001b[0m\u001b[37m\u001b[0m \u001b[1m6s\u001b[0m 22ms/step - accuracy: 0.9327 - loss: 0.2460 - val_accuracy: 0.8000 - val_loss: 0.7818\n",
            "Epoch 9/20\n",
            "\u001b[1m178/178\u001b[0m \u001b[32m━━━━━━━━━━━━━━━━━━━━\u001b[0m\u001b[37m\u001b[0m \u001b[1m3s\u001b[0m 15ms/step - accuracy: 0.9372 - loss: 0.2303 - val_accuracy: 0.8000 - val_loss: 0.7492\n",
            "Epoch 10/20\n",
            "\u001b[1m178/178\u001b[0m \u001b[32m━━━━━━━━━━━━━━━━━━━━\u001b[0m\u001b[37m\u001b[0m \u001b[1m5s\u001b[0m 15ms/step - accuracy: 0.9381 - loss: 0.2292 - val_accuracy: 0.8000 - val_loss: 0.7681\n",
            "Epoch 11/20\n",
            "\u001b[1m178/178\u001b[0m \u001b[32m━━━━━━━━━━━━━━━━━━━━\u001b[0m\u001b[37m\u001b[0m \u001b[1m6s\u001b[0m 20ms/step - accuracy: 0.9316 - loss: 0.2513 - val_accuracy: 0.8000 - val_loss: 0.8253\n",
            "Epoch 12/20\n",
            "\u001b[1m178/178\u001b[0m \u001b[32m━━━━━━━━━━━━━━━━━━━━\u001b[0m\u001b[37m\u001b[0m \u001b[1m4s\u001b[0m 16ms/step - accuracy: 0.9333 - loss: 0.2389 - val_accuracy: 0.8000 - val_loss: 0.7880\n",
            "Epoch 13/20\n",
            "\u001b[1m178/178\u001b[0m \u001b[32m━━━━━━━━━━━━━━━━━━━━\u001b[0m\u001b[37m\u001b[0m \u001b[1m5s\u001b[0m 15ms/step - accuracy: 0.9302 - loss: 0.2499 - val_accuracy: 0.8000 - val_loss: 0.8087\n",
            "Epoch 14/20\n",
            "\u001b[1m178/178\u001b[0m \u001b[32m━━━━━━━━━━━━━━━━━━━━\u001b[0m\u001b[37m\u001b[0m \u001b[1m4s\u001b[0m 23ms/step - accuracy: 0.9339 - loss: 0.2383 - val_accuracy: 0.8000 - val_loss: 0.7937\n",
            "Epoch 15/20\n",
            "\u001b[1m178/178\u001b[0m \u001b[32m━━━━━━━━━━━━━━━━━━━━\u001b[0m\u001b[37m\u001b[0m \u001b[1m4s\u001b[0m 15ms/step - accuracy: 0.9367 - loss: 0.2244 - val_accuracy: 0.8000 - val_loss: 0.7078\n",
            "Epoch 16/20\n",
            "\u001b[1m178/178\u001b[0m \u001b[32m━━━━━━━━━━━━━━━━━━━━\u001b[0m\u001b[37m\u001b[0m \u001b[1m5s\u001b[0m 14ms/step - accuracy: 0.9386 - loss: 0.2267 - val_accuracy: 0.8000 - val_loss: 0.7456\n",
            "Epoch 17/20\n",
            "\u001b[1m178/178\u001b[0m \u001b[32m━━━━━━━━━━━━━━━━━━━━\u001b[0m\u001b[37m\u001b[0m \u001b[1m6s\u001b[0m 19ms/step - accuracy: 0.9347 - loss: 0.2314 - val_accuracy: 0.8000 - val_loss: 0.8290\n",
            "Epoch 18/20\n",
            "\u001b[1m178/178\u001b[0m \u001b[32m━━━━━━━━━━━━━━━━━━━━\u001b[0m\u001b[37m\u001b[0m \u001b[1m3s\u001b[0m 16ms/step - accuracy: 0.9358 - loss: 0.2330 - val_accuracy: 0.8000 - val_loss: 0.7864\n",
            "Epoch 19/20\n",
            "\u001b[1m178/178\u001b[0m \u001b[32m━━━━━━━━━━━━━━━━━━━━\u001b[0m\u001b[37m\u001b[0m \u001b[1m5s\u001b[0m 15ms/step - accuracy: 0.9302 - loss: 0.2482 - val_accuracy: 0.8000 - val_loss: 0.8289\n",
            "Epoch 20/20\n",
            "\u001b[1m178/178\u001b[0m \u001b[32m━━━━━━━━━━━━━━━━━━━━\u001b[0m\u001b[37m\u001b[0m \u001b[1m4s\u001b[0m 20ms/step - accuracy: 0.9336 - loss: 0.2356 - val_accuracy: 0.8000 - val_loss: 0.7978\n",
            "\u001b[1m53/53\u001b[0m \u001b[32m━━━━━━━━━━━━━━━━━━━━\u001b[0m\u001b[37m\u001b[0m \u001b[1m1s\u001b[0m 9ms/step\n",
            "\n",
            "Conv-LSTM Metrics for fold 3:\n",
            "Accuracy: 0.9912\n",
            "Precision: 0.9824\n",
            "Recall: 0.9912\n",
            "Sensitivity: 0.3333\n",
            "Specificity: 0.6667\n",
            "Confusion Matrix:\n",
            "[[   0   14    0]\n",
            " [   0 1680    0]\n",
            " [   0    1    0]]\n",
            "\n",
            "=== Fold 4 - Testing on subject AP04 ===\n",
            "\n",
            "Training Conv-LSTM...\n",
            "Epoch 1/20\n"
          ]
        },
        {
          "output_type": "stream",
          "name": "stderr",
          "text": [
            "/usr/local/lib/python3.11/dist-packages/keras/src/layers/core/wrapper.py:27: UserWarning: Do not pass an `input_shape`/`input_dim` argument to a layer. When using Sequential models, prefer using an `Input(shape)` object as the first layer in the model instead.\n",
            "  super().__init__(**kwargs)\n"
          ]
        },
        {
          "output_type": "stream",
          "name": "stdout",
          "text": [
            "\u001b[1m172/172\u001b[0m \u001b[32m━━━━━━━━━━━━━━━━━━━━\u001b[0m\u001b[37m\u001b[0m \u001b[1m6s\u001b[0m 18ms/step - accuracy: 0.9186 - loss: 0.5496 - val_accuracy: 0.7968 - val_loss: 0.8765\n",
            "Epoch 2/20\n",
            "\u001b[1m172/172\u001b[0m \u001b[32m━━━━━━━━━━━━━━━━━━━━\u001b[0m\u001b[37m\u001b[0m \u001b[1m3s\u001b[0m 18ms/step - accuracy: 0.9569 - loss: 0.1885 - val_accuracy: 0.7968 - val_loss: 0.8022\n",
            "Epoch 3/20\n",
            "\u001b[1m172/172\u001b[0m \u001b[32m━━━━━━━━━━━━━━━━━━━━\u001b[0m\u001b[37m\u001b[0m \u001b[1m3s\u001b[0m 20ms/step - accuracy: 0.9581 - loss: 0.1875 - val_accuracy: 0.7968 - val_loss: 0.7800\n",
            "Epoch 4/20\n",
            "\u001b[1m172/172\u001b[0m \u001b[32m━━━━━━━━━━━━━━━━━━━━\u001b[0m\u001b[37m\u001b[0m \u001b[1m4s\u001b[0m 15ms/step - accuracy: 0.9529 - loss: 0.1822 - val_accuracy: 0.7968 - val_loss: 0.7700\n",
            "Epoch 5/20\n",
            "\u001b[1m172/172\u001b[0m \u001b[32m━━━━━━━━━━━━━━━━━━━━\u001b[0m\u001b[37m\u001b[0m \u001b[1m5s\u001b[0m 16ms/step - accuracy: 0.9579 - loss: 0.1735 - val_accuracy: 0.7968 - val_loss: 0.7649\n",
            "Epoch 6/20\n",
            "\u001b[1m172/172\u001b[0m \u001b[32m━━━━━━━━━━━━━━━━━━━━\u001b[0m\u001b[37m\u001b[0m \u001b[1m5s\u001b[0m 15ms/step - accuracy: 0.9527 - loss: 0.1994 - val_accuracy: 0.7968 - val_loss: 0.8012\n",
            "Epoch 7/20\n",
            "\u001b[1m172/172\u001b[0m \u001b[32m━━━━━━━━━━━━━━━━━━━━\u001b[0m\u001b[37m\u001b[0m \u001b[1m3s\u001b[0m 15ms/step - accuracy: 0.9570 - loss: 0.1779 - val_accuracy: 0.7968 - val_loss: 0.7596\n",
            "Epoch 8/20\n",
            "\u001b[1m172/172\u001b[0m \u001b[32m━━━━━━━━━━━━━━━━━━━━\u001b[0m\u001b[37m\u001b[0m \u001b[1m5s\u001b[0m 17ms/step - accuracy: 0.9561 - loss: 0.1813 - val_accuracy: 0.7968 - val_loss: 0.7471\n",
            "Epoch 9/20\n",
            "\u001b[1m172/172\u001b[0m \u001b[32m━━━━━━━━━━━━━━━━━━━━\u001b[0m\u001b[37m\u001b[0m \u001b[1m4s\u001b[0m 23ms/step - accuracy: 0.9537 - loss: 0.1831 - val_accuracy: 0.7968 - val_loss: 0.7276\n",
            "Epoch 10/20\n",
            "\u001b[1m172/172\u001b[0m \u001b[32m━━━━━━━━━━━━━━━━━━━━\u001b[0m\u001b[37m\u001b[0m \u001b[1m4s\u001b[0m 16ms/step - accuracy: 0.9559 - loss: 0.1764 - val_accuracy: 0.7968 - val_loss: 0.7584\n",
            "Epoch 11/20\n",
            "\u001b[1m172/172\u001b[0m \u001b[32m━━━━━━━━━━━━━━━━━━━━\u001b[0m\u001b[37m\u001b[0m \u001b[1m3s\u001b[0m 15ms/step - accuracy: 0.9571 - loss: 0.1803 - val_accuracy: 0.7968 - val_loss: 0.7284\n",
            "Epoch 12/20\n",
            "\u001b[1m172/172\u001b[0m \u001b[32m━━━━━━━━━━━━━━━━━━━━\u001b[0m\u001b[37m\u001b[0m \u001b[1m3s\u001b[0m 16ms/step - accuracy: 0.9573 - loss: 0.1757 - val_accuracy: 0.7968 - val_loss: 0.7109\n",
            "Epoch 13/20\n",
            "\u001b[1m172/172\u001b[0m \u001b[32m━━━━━━━━━━━━━━━━━━━━\u001b[0m\u001b[37m\u001b[0m \u001b[1m5s\u001b[0m 16ms/step - accuracy: 0.9568 - loss: 0.1727 - val_accuracy: 0.7968 - val_loss: 0.6533\n",
            "Epoch 14/20\n",
            "\u001b[1m172/172\u001b[0m \u001b[32m━━━━━━━━━━━━━━━━━━━━\u001b[0m\u001b[37m\u001b[0m \u001b[1m5s\u001b[0m 15ms/step - accuracy: 0.9579 - loss: 0.1663 - val_accuracy: 0.7968 - val_loss: 0.6773\n",
            "Epoch 15/20\n",
            "\u001b[1m172/172\u001b[0m \u001b[32m━━━━━━━━━━━━━━━━━━━━\u001b[0m\u001b[37m\u001b[0m \u001b[1m3s\u001b[0m 16ms/step - accuracy: 0.9550 - loss: 0.1712 - val_accuracy: 0.7968 - val_loss: 0.8853\n",
            "Epoch 16/20\n",
            "\u001b[1m172/172\u001b[0m \u001b[32m━━━━━━━━━━━━━━━━━━━━\u001b[0m\u001b[37m\u001b[0m \u001b[1m5s\u001b[0m 17ms/step - accuracy: 0.9581 - loss: 0.1718 - val_accuracy: 0.7968 - val_loss: 0.7812\n",
            "Epoch 17/20\n",
            "\u001b[1m172/172\u001b[0m \u001b[32m━━━━━━━━━━━━━━━━━━━━\u001b[0m\u001b[37m\u001b[0m \u001b[1m3s\u001b[0m 16ms/step - accuracy: 0.9537 - loss: 0.1797 - val_accuracy: 0.7968 - val_loss: 0.8077\n",
            "Epoch 18/20\n",
            "\u001b[1m172/172\u001b[0m \u001b[32m━━━━━━━━━━━━━━━━━━━━\u001b[0m\u001b[37m\u001b[0m \u001b[1m5s\u001b[0m 15ms/step - accuracy: 0.9535 - loss: 0.1844 - val_accuracy: 0.7968 - val_loss: 0.7396\n",
            "Epoch 19/20\n",
            "\u001b[1m172/172\u001b[0m \u001b[32m━━━━━━━━━━━━━━━━━━━━\u001b[0m\u001b[37m\u001b[0m \u001b[1m5s\u001b[0m 15ms/step - accuracy: 0.9586 - loss: 0.1636 - val_accuracy: 0.7968 - val_loss: 0.7589\n",
            "Epoch 20/20\n",
            "\u001b[1m172/172\u001b[0m \u001b[32m━━━━━━━━━━━━━━━━━━━━\u001b[0m\u001b[37m\u001b[0m \u001b[1m3s\u001b[0m 15ms/step - accuracy: 0.9512 - loss: 0.1854 - val_accuracy: 0.7968 - val_loss: 0.7187\n",
            "\u001b[1m61/61\u001b[0m \u001b[32m━━━━━━━━━━━━━━━━━━━━\u001b[0m\u001b[37m\u001b[0m \u001b[1m1s\u001b[0m 7ms/step\n",
            "\n",
            "Conv-LSTM Metrics for fold 4:\n",
            "Accuracy: 0.9228\n",
            "Precision: 0.8516\n",
            "Recall: 0.9228\n",
            "Sensitivity: 0.2500\n",
            "Specificity: 0.7500\n",
            "Confusion Matrix:\n",
            "[[   0    0    2    0]\n",
            " [   0    0  146    0]\n",
            " [   0    0 1781    0]\n",
            " [   0    0    1    0]]\n",
            "\n",
            "=== Fold 5 - Testing on subject AP05 ===\n",
            "\n",
            "Training Conv-LSTM...\n",
            "Epoch 1/20\n"
          ]
        },
        {
          "output_type": "stream",
          "name": "stderr",
          "text": [
            "/usr/local/lib/python3.11/dist-packages/keras/src/layers/core/wrapper.py:27: UserWarning: Do not pass an `input_shape`/`input_dim` argument to a layer. When using Sequential models, prefer using an `Input(shape)` object as the first layer in the model instead.\n",
            "  super().__init__(**kwargs)\n"
          ]
        },
        {
          "output_type": "stream",
          "name": "stdout",
          "text": [
            "\u001b[1m181/181\u001b[0m \u001b[32m━━━━━━━━━━━━━━━━━━━━\u001b[0m\u001b[37m\u001b[0m \u001b[1m8s\u001b[0m 24ms/step - accuracy: 0.9165 - loss: 0.5538 - val_accuracy: 0.8988 - val_loss: 0.3384\n",
            "Epoch 2/20\n",
            "\u001b[1m181/181\u001b[0m \u001b[32m━━━━━━━━━━━━━━━━━━━━\u001b[0m\u001b[37m\u001b[0m \u001b[1m3s\u001b[0m 17ms/step - accuracy: 0.9591 - loss: 0.1821 - val_accuracy: 0.8988 - val_loss: 0.3205\n",
            "Epoch 3/20\n",
            "\u001b[1m181/181\u001b[0m \u001b[32m━━━━━━━━━━━━━━━━━━━━\u001b[0m\u001b[37m\u001b[0m \u001b[1m3s\u001b[0m 15ms/step - accuracy: 0.9565 - loss: 0.1910 - val_accuracy: 0.8988 - val_loss: 0.3369\n",
            "Epoch 4/20\n",
            "\u001b[1m181/181\u001b[0m \u001b[32m━━━━━━━━━━━━━━━━━━━━\u001b[0m\u001b[37m\u001b[0m \u001b[1m3s\u001b[0m 15ms/step - accuracy: 0.9547 - loss: 0.1831 - val_accuracy: 0.8988 - val_loss: 0.3220\n",
            "Epoch 5/20\n",
            "\u001b[1m181/181\u001b[0m \u001b[32m━━━━━━━━━━━━━━━━━━━━\u001b[0m\u001b[37m\u001b[0m \u001b[1m6s\u001b[0m 23ms/step - accuracy: 0.9543 - loss: 0.1827 - val_accuracy: 0.8988 - val_loss: 0.3401\n",
            "Epoch 6/20\n",
            "\u001b[1m181/181\u001b[0m \u001b[32m━━━━━━━━━━━━━━━━━━━━\u001b[0m\u001b[37m\u001b[0m \u001b[1m4s\u001b[0m 15ms/step - accuracy: 0.9570 - loss: 0.1779 - val_accuracy: 0.8988 - val_loss: 0.3288\n",
            "Epoch 7/20\n",
            "\u001b[1m181/181\u001b[0m \u001b[32m━━━━━━━━━━━━━━━━━━━━\u001b[0m\u001b[37m\u001b[0m \u001b[1m3s\u001b[0m 15ms/step - accuracy: 0.9562 - loss: 0.1818 - val_accuracy: 0.8988 - val_loss: 0.3334\n",
            "Epoch 8/20\n",
            "\u001b[1m181/181\u001b[0m \u001b[32m━━━━━━━━━━━━━━━━━━━━\u001b[0m\u001b[37m\u001b[0m \u001b[1m6s\u001b[0m 18ms/step - accuracy: 0.9590 - loss: 0.1731 - val_accuracy: 0.8988 - val_loss: 0.3399\n",
            "Epoch 9/20\n",
            "\u001b[1m181/181\u001b[0m \u001b[32m━━━━━━━━━━━━━━━━━━━━\u001b[0m\u001b[37m\u001b[0m \u001b[1m4s\u001b[0m 15ms/step - accuracy: 0.9573 - loss: 0.1686 - val_accuracy: 0.8988 - val_loss: 0.3415\n",
            "Epoch 10/20\n",
            "\u001b[1m181/181\u001b[0m \u001b[32m━━━━━━━━━━━━━━━━━━━━\u001b[0m\u001b[37m\u001b[0m \u001b[1m3s\u001b[0m 14ms/step - accuracy: 0.9526 - loss: 0.1979 - val_accuracy: 0.8988 - val_loss: 0.3579\n",
            "Epoch 11/20\n",
            "\u001b[1m181/181\u001b[0m \u001b[32m━━━━━━━━━━━━━━━━━━━━\u001b[0m\u001b[37m\u001b[0m \u001b[1m6s\u001b[0m 17ms/step - accuracy: 0.9573 - loss: 0.1671 - val_accuracy: 0.8988 - val_loss: 0.3318\n",
            "Epoch 12/20\n",
            "\u001b[1m181/181\u001b[0m \u001b[32m━━━━━━━━━━━━━━━━━━━━\u001b[0m\u001b[37m\u001b[0m \u001b[1m4s\u001b[0m 20ms/step - accuracy: 0.9550 - loss: 0.1763 - val_accuracy: 0.8988 - val_loss: 0.3302\n",
            "Epoch 13/20\n",
            "\u001b[1m181/181\u001b[0m \u001b[32m━━━━━━━━━━━━━━━━━━━━\u001b[0m\u001b[37m\u001b[0m \u001b[1m3s\u001b[0m 14ms/step - accuracy: 0.9605 - loss: 0.1600 - val_accuracy: 0.8988 - val_loss: 0.3422\n",
            "Epoch 14/20\n",
            "\u001b[1m181/181\u001b[0m \u001b[32m━━━━━━━━━━━━━━━━━━━━\u001b[0m\u001b[37m\u001b[0m \u001b[1m3s\u001b[0m 15ms/step - accuracy: 0.9500 - loss: 0.1841 - val_accuracy: 0.8988 - val_loss: 0.3614\n",
            "Epoch 15/20\n",
            "\u001b[1m181/181\u001b[0m \u001b[32m━━━━━━━━━━━━━━━━━━━━\u001b[0m\u001b[37m\u001b[0m \u001b[1m3s\u001b[0m 15ms/step - accuracy: 0.9562 - loss: 0.1701 - val_accuracy: 0.8988 - val_loss: 0.3345\n",
            "Epoch 16/20\n",
            "\u001b[1m181/181\u001b[0m \u001b[32m━━━━━━━━━━━━━━━━━━━━\u001b[0m\u001b[37m\u001b[0m \u001b[1m6s\u001b[0m 19ms/step - accuracy: 0.9569 - loss: 0.1632 - val_accuracy: 0.8988 - val_loss: 0.3418\n",
            "Epoch 17/20\n",
            "\u001b[1m181/181\u001b[0m \u001b[32m━━━━━━━━━━━━━━━━━━━━\u001b[0m\u001b[37m\u001b[0m \u001b[1m4s\u001b[0m 15ms/step - accuracy: 0.9557 - loss: 0.1696 - val_accuracy: 0.8988 - val_loss: 0.3418\n",
            "Epoch 18/20\n",
            "\u001b[1m181/181\u001b[0m \u001b[32m━━━━━━━━━━━━━━━━━━━━\u001b[0m\u001b[37m\u001b[0m \u001b[1m3s\u001b[0m 15ms/step - accuracy: 0.9607 - loss: 0.1579 - val_accuracy: 0.8988 - val_loss: 0.3316\n",
            "Epoch 19/20\n",
            "\u001b[1m181/181\u001b[0m \u001b[32m━━━━━━━━━━━━━━━━━━━━\u001b[0m\u001b[37m\u001b[0m \u001b[1m3s\u001b[0m 18ms/step - accuracy: 0.9599 - loss: 0.1602 - val_accuracy: 0.8988 - val_loss: 0.3466\n",
            "Epoch 20/20\n",
            "\u001b[1m181/181\u001b[0m \u001b[32m━━━━━━━━━━━━━━━━━━━━\u001b[0m\u001b[37m\u001b[0m \u001b[1m4s\u001b[0m 20ms/step - accuracy: 0.9570 - loss: 0.1682 - val_accuracy: 0.8988 - val_loss: 0.3419\n",
            "\u001b[1m50/50\u001b[0m \u001b[32m━━━━━━━━━━━━━━━━━━━━\u001b[0m\u001b[37m\u001b[0m \u001b[1m1s\u001b[0m 9ms/step\n",
            "\n",
            "Conv-LSTM Metrics for fold 5:\n",
            "Accuracy: 0.8184\n",
            "Precision: 0.6697\n",
            "Recall: 0.8184\n",
            "Sensitivity: 0.2000\n",
            "Specificity: 0.8000\n",
            "Confusion Matrix:\n",
            "[[   0    0    0    1    0]\n",
            " [   0    0    0  155    0]\n",
            " [   0    0    0    2    0]\n",
            " [   0    0    0 1293    0]\n",
            " [   0    0    0  129    0]]\n"
          ]
        }
      ]
    },
    {
      "cell_type": "code",
      "source": [
        "# Calculate and print aggregated results\n",
        "def print_aggregated_results(results, model_name):\n",
        "    print(f\"\\n=== Aggregated Results for {model_name} ===\")\n",
        "    for metric in results:\n",
        "        values = results[metric]\n",
        "        print(f\"{metric.capitalize()}: Mean = {np.mean(values):.4f}, Std = {np.std(values):.4f}\")\n",
        "\n",
        "print_aggregated_results(results_conv_lstm, \"Conv-LSTM\")\n",
        "\n"
      ],
      "metadata": {
        "id": "MrtjHizRrhC1",
        "colab": {
          "base_uri": "https://localhost:8080/"
        },
        "outputId": "1594a9e8-657b-4c27-8f18-96f5b400569e"
      },
      "execution_count": 19,
      "outputs": [
        {
          "output_type": "stream",
          "name": "stdout",
          "text": [
            "\n",
            "=== Aggregated Results for Conv-LSTM ===\n",
            "Accuracy: Mean = 0.9212, Std = 0.0575\n",
            "Precision: Mean = 0.8519, Std = 0.1036\n",
            "Recall: Mean = 0.9212, Std = 0.0575\n",
            "Sensitivity: Mean = 0.2900, Std = 0.0554\n",
            "Specificity: Mean = 0.7100, Std = 0.0554\n"
          ]
        }
      ]
    }
  ]
}